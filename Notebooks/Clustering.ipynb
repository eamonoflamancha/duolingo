{
 "cells": [
  {
   "cell_type": "code",
   "execution_count": 108,
   "id": "35e4d5d3-88d1-4e4b-8cf3-0b0441b6a84f",
   "metadata": {},
   "outputs": [],
   "source": [
    "import numpy as np\n",
    "import pandas as pd\n",
    "import seaborn as sns\n",
    "\n",
    "from matplotlib import pyplot as plt\n",
    "from sklearn import preprocessing\n",
    "from kmodes.kprototypes import KPrototypes\n",
    "\n",
    "%matplotlib inline\n",
    "plt.style.use('seaborn-notebook')"
   ]
  },
  {
   "cell_type": "code",
   "execution_count": 89,
   "id": "e808b052-1d40-4ee6-8c38-8abeebf01dba",
   "metadata": {},
   "outputs": [],
   "source": [
    "%store -r"
   ]
  },
  {
   "cell_type": "code",
   "execution_count": 90,
   "id": "1ca647aa-d33a-43fd-adb6-954b2bee4d9e",
   "metadata": {},
   "outputs": [],
   "source": [
    "df_norm = df.copy()\n",
    "df_norm.set_index('user_id', inplace=True)"
   ]
  },
  {
   "cell_type": "code",
   "execution_count": 92,
   "id": "039f7408-5805-4d5a-ba65-29f9ce38298d",
   "metadata": {},
   "outputs": [],
   "source": [
    "numeric_cols = list(df.select_dtypes('float64').columns)\n",
    "scaler = preprocessing.MinMaxScaler()\n",
    "df_norm[numeric_cols] = scaler.fit_transform(df_norm[numeric_cols])"
   ]
  },
  {
   "cell_type": "code",
   "execution_count": 93,
   "id": "51ada946-bf94-4af8-926e-62daf10b3ab2",
   "metadata": {},
   "outputs": [
    {
     "data": {
      "text/html": [
       "<div>\n",
       "<style scoped>\n",
       "    .dataframe tbody tr th:only-of-type {\n",
       "        vertical-align: middle;\n",
       "    }\n",
       "\n",
       "    .dataframe tbody tr th {\n",
       "        vertical-align: top;\n",
       "    }\n",
       "\n",
       "    .dataframe thead th {\n",
       "        text-align: right;\n",
       "    }\n",
       "</style>\n",
       "<table border=\"1\" class=\"dataframe\">\n",
       "  <thead>\n",
       "    <tr style=\"text-align: right;\">\n",
       "      <th></th>\n",
       "      <th>age</th>\n",
       "      <th>annual_income</th>\n",
       "      <th>country</th>\n",
       "      <th>duolingo_platform</th>\n",
       "      <th>duolingo_subscriber</th>\n",
       "      <th>duolingo_usage</th>\n",
       "      <th>employment_status</th>\n",
       "      <th>gender</th>\n",
       "      <th>primary_language_commitment</th>\n",
       "      <th>primary_language_review</th>\n",
       "      <th>...</th>\n",
       "      <th>primary_language_proficiency</th>\n",
       "      <th>student</th>\n",
       "      <th>used_other_resources</th>\n",
       "      <th>highest_course_progress</th>\n",
       "      <th>took_placement_test</th>\n",
       "      <th>purchased_subscription</th>\n",
       "      <th>n_days_on_platform</th>\n",
       "      <th>has_daily_goal</th>\n",
       "      <th>pct_days_active</th>\n",
       "      <th>log_lessons_per_day</th>\n",
       "    </tr>\n",
       "    <tr>\n",
       "      <th>user_id</th>\n",
       "      <th></th>\n",
       "      <th></th>\n",
       "      <th></th>\n",
       "      <th></th>\n",
       "      <th></th>\n",
       "      <th></th>\n",
       "      <th></th>\n",
       "      <th></th>\n",
       "      <th></th>\n",
       "      <th></th>\n",
       "      <th></th>\n",
       "      <th></th>\n",
       "      <th></th>\n",
       "      <th></th>\n",
       "      <th></th>\n",
       "      <th></th>\n",
       "      <th></th>\n",
       "      <th></th>\n",
       "      <th></th>\n",
       "      <th></th>\n",
       "      <th></th>\n",
       "    </tr>\n",
       "  </thead>\n",
       "  <tbody>\n",
       "    <tr>\n",
       "      <th>35c9fc6e72c911e99681dca9049399ef</th>\n",
       "      <td>18-34</td>\n",
       "      <td>$26,000 - $75,000</td>\n",
       "      <td>JP</td>\n",
       "      <td>Android phone or tablet</td>\n",
       "      <td>No, I have never paid for Duolingo Plus</td>\n",
       "      <td>Daily</td>\n",
       "      <td>Employed full-time</td>\n",
       "      <td>Male</td>\n",
       "      <td>I'm very committed to learning this language.</td>\n",
       "      <td>I am using Duolingo to review a language I've ...</td>\n",
       "      <td>...</td>\n",
       "      <td>Advanced</td>\n",
       "      <td>Not currently a student</td>\n",
       "      <td>True</td>\n",
       "      <td>0.731183</td>\n",
       "      <td>True</td>\n",
       "      <td>False</td>\n",
       "      <td>0.352917</td>\n",
       "      <td>False</td>\n",
       "      <td>0.937500</td>\n",
       "      <td>0.572682</td>\n",
       "    </tr>\n",
       "    <tr>\n",
       "      <th>35c9fdde72c911e98630dca9049399ef</th>\n",
       "      <td>18-34</td>\n",
       "      <td>$26,000 - $75,000</td>\n",
       "      <td>JP</td>\n",
       "      <td>iPhone or iPad</td>\n",
       "      <td>No, I have never paid for Duolingo Plus</td>\n",
       "      <td>Weekly</td>\n",
       "      <td>Employed full-time</td>\n",
       "      <td>Male</td>\n",
       "      <td>I'm slightly committed to learning this language.</td>\n",
       "      <td>I am using Duolingo to review a language I've ...</td>\n",
       "      <td>...</td>\n",
       "      <td>Intermediate</td>\n",
       "      <td>Not currently a student</td>\n",
       "      <td>True</td>\n",
       "      <td>0.150538</td>\n",
       "      <td>True</td>\n",
       "      <td>False</td>\n",
       "      <td>0.051250</td>\n",
       "      <td>True</td>\n",
       "      <td>0.552083</td>\n",
       "      <td>0.528509</td>\n",
       "    </tr>\n",
       "    <tr>\n",
       "      <th>35c9feb072c911e9ab4cdca9049399ef</th>\n",
       "      <td>18-34</td>\n",
       "      <td>$76,000 - $150,000</td>\n",
       "      <td>JP</td>\n",
       "      <td>iPhone or iPad</td>\n",
       "      <td>Yes, I currently pay for Duolingo Plus</td>\n",
       "      <td>Daily</td>\n",
       "      <td>Employed full-time</td>\n",
       "      <td>Male</td>\n",
       "      <td>I'm moderately committed to learning this lang...</td>\n",
       "      <td>I am using Duolingo to review a language I've ...</td>\n",
       "      <td>...</td>\n",
       "      <td>Beginner</td>\n",
       "      <td>Not currently a student</td>\n",
       "      <td>True</td>\n",
       "      <td>0.225806</td>\n",
       "      <td>False</td>\n",
       "      <td>True</td>\n",
       "      <td>0.198750</td>\n",
       "      <td>False</td>\n",
       "      <td>0.302083</td>\n",
       "      <td>0.526409</td>\n",
       "    </tr>\n",
       "    <tr>\n",
       "      <th>35c9ff7072c911e9900ddca9049399ef</th>\n",
       "      <td>18-34</td>\n",
       "      <td>$76,000 - $150,000</td>\n",
       "      <td>JP</td>\n",
       "      <td>iPhone or iPad</td>\n",
       "      <td>No, but I have previously paid for Duolingo Plus</td>\n",
       "      <td>Daily</td>\n",
       "      <td>Employed full-time</td>\n",
       "      <td>Female</td>\n",
       "      <td>I'm very committed to learning this language.</td>\n",
       "      <td>I am using Duolingo to learn this language for...</td>\n",
       "      <td>...</td>\n",
       "      <td>Intermediate</td>\n",
       "      <td>Not currently a student</td>\n",
       "      <td>True</td>\n",
       "      <td>0.225806</td>\n",
       "      <td>False</td>\n",
       "      <td>True</td>\n",
       "      <td>0.047917</td>\n",
       "      <td>True</td>\n",
       "      <td>0.958333</td>\n",
       "      <td>0.737771</td>\n",
       "    </tr>\n",
       "    <tr>\n",
       "      <th>35ca002672c911e99effdca9049399ef</th>\n",
       "      <td>35 - 54</td>\n",
       "      <td>$76,000 - $150,000</td>\n",
       "      <td>JP</td>\n",
       "      <td>Android phone or tablet</td>\n",
       "      <td>Yes, I currently pay for Duolingo Plus</td>\n",
       "      <td>Daily</td>\n",
       "      <td>Employed full-time</td>\n",
       "      <td>Male</td>\n",
       "      <td>I'm very committed to learning this language.</td>\n",
       "      <td>I am using Duolingo to learn this language for...</td>\n",
       "      <td>...</td>\n",
       "      <td>Intermediate</td>\n",
       "      <td>Not currently a student</td>\n",
       "      <td>True</td>\n",
       "      <td>0.795699</td>\n",
       "      <td>False</td>\n",
       "      <td>True</td>\n",
       "      <td>0.812083</td>\n",
       "      <td>False</td>\n",
       "      <td>0.875000</td>\n",
       "      <td>0.571862</td>\n",
       "    </tr>\n",
       "  </tbody>\n",
       "</table>\n",
       "<p>5 rows × 21 columns</p>\n",
       "</div>"
      ],
      "text/plain": [
       "                                      age       annual_income country  \\\n",
       "user_id                                                                 \n",
       "35c9fc6e72c911e99681dca9049399ef    18-34   $26,000 - $75,000      JP   \n",
       "35c9fdde72c911e98630dca9049399ef    18-34   $26,000 - $75,000      JP   \n",
       "35c9feb072c911e9ab4cdca9049399ef    18-34  $76,000 - $150,000      JP   \n",
       "35c9ff7072c911e9900ddca9049399ef    18-34  $76,000 - $150,000      JP   \n",
       "35ca002672c911e99effdca9049399ef  35 - 54  $76,000 - $150,000      JP   \n",
       "\n",
       "                                        duolingo_platform  \\\n",
       "user_id                                                     \n",
       "35c9fc6e72c911e99681dca9049399ef  Android phone or tablet   \n",
       "35c9fdde72c911e98630dca9049399ef           iPhone or iPad   \n",
       "35c9feb072c911e9ab4cdca9049399ef           iPhone or iPad   \n",
       "35c9ff7072c911e9900ddca9049399ef           iPhone or iPad   \n",
       "35ca002672c911e99effdca9049399ef  Android phone or tablet   \n",
       "\n",
       "                                                               duolingo_subscriber  \\\n",
       "user_id                                                                              \n",
       "35c9fc6e72c911e99681dca9049399ef           No, I have never paid for Duolingo Plus   \n",
       "35c9fdde72c911e98630dca9049399ef           No, I have never paid for Duolingo Plus   \n",
       "35c9feb072c911e9ab4cdca9049399ef            Yes, I currently pay for Duolingo Plus   \n",
       "35c9ff7072c911e9900ddca9049399ef  No, but I have previously paid for Duolingo Plus   \n",
       "35ca002672c911e99effdca9049399ef            Yes, I currently pay for Duolingo Plus   \n",
       "\n",
       "                                 duolingo_usage   employment_status  gender  \\\n",
       "user_id                                                                       \n",
       "35c9fc6e72c911e99681dca9049399ef          Daily  Employed full-time    Male   \n",
       "35c9fdde72c911e98630dca9049399ef         Weekly  Employed full-time    Male   \n",
       "35c9feb072c911e9ab4cdca9049399ef          Daily  Employed full-time    Male   \n",
       "35c9ff7072c911e9900ddca9049399ef          Daily  Employed full-time  Female   \n",
       "35ca002672c911e99effdca9049399ef          Daily  Employed full-time    Male   \n",
       "\n",
       "                                                        primary_language_commitment  \\\n",
       "user_id                                                                               \n",
       "35c9fc6e72c911e99681dca9049399ef      I'm very committed to learning this language.   \n",
       "35c9fdde72c911e98630dca9049399ef  I'm slightly committed to learning this language.   \n",
       "35c9feb072c911e9ab4cdca9049399ef  I'm moderately committed to learning this lang...   \n",
       "35c9ff7072c911e9900ddca9049399ef      I'm very committed to learning this language.   \n",
       "35ca002672c911e99effdca9049399ef      I'm very committed to learning this language.   \n",
       "\n",
       "                                                            primary_language_review  \\\n",
       "user_id                                                                               \n",
       "35c9fc6e72c911e99681dca9049399ef  I am using Duolingo to review a language I've ...   \n",
       "35c9fdde72c911e98630dca9049399ef  I am using Duolingo to review a language I've ...   \n",
       "35c9feb072c911e9ab4cdca9049399ef  I am using Duolingo to review a language I've ...   \n",
       "35c9ff7072c911e9900ddca9049399ef  I am using Duolingo to learn this language for...   \n",
       "35ca002672c911e99effdca9049399ef  I am using Duolingo to learn this language for...   \n",
       "\n",
       "                                  ... primary_language_proficiency  \\\n",
       "user_id                           ...                                \n",
       "35c9fc6e72c911e99681dca9049399ef  ...                     Advanced   \n",
       "35c9fdde72c911e98630dca9049399ef  ...                 Intermediate   \n",
       "35c9feb072c911e9ab4cdca9049399ef  ...                     Beginner   \n",
       "35c9ff7072c911e9900ddca9049399ef  ...                 Intermediate   \n",
       "35ca002672c911e99effdca9049399ef  ...                 Intermediate   \n",
       "\n",
       "                                                  student  \\\n",
       "user_id                                                     \n",
       "35c9fc6e72c911e99681dca9049399ef  Not currently a student   \n",
       "35c9fdde72c911e98630dca9049399ef  Not currently a student   \n",
       "35c9feb072c911e9ab4cdca9049399ef  Not currently a student   \n",
       "35c9ff7072c911e9900ddca9049399ef  Not currently a student   \n",
       "35ca002672c911e99effdca9049399ef  Not currently a student   \n",
       "\n",
       "                                 used_other_resources  \\\n",
       "user_id                                                 \n",
       "35c9fc6e72c911e99681dca9049399ef                 True   \n",
       "35c9fdde72c911e98630dca9049399ef                 True   \n",
       "35c9feb072c911e9ab4cdca9049399ef                 True   \n",
       "35c9ff7072c911e9900ddca9049399ef                 True   \n",
       "35ca002672c911e99effdca9049399ef                 True   \n",
       "\n",
       "                                  highest_course_progress  \\\n",
       "user_id                                                     \n",
       "35c9fc6e72c911e99681dca9049399ef                 0.731183   \n",
       "35c9fdde72c911e98630dca9049399ef                 0.150538   \n",
       "35c9feb072c911e9ab4cdca9049399ef                 0.225806   \n",
       "35c9ff7072c911e9900ddca9049399ef                 0.225806   \n",
       "35ca002672c911e99effdca9049399ef                 0.795699   \n",
       "\n",
       "                                  took_placement_test  purchased_subscription  \\\n",
       "user_id                                                                         \n",
       "35c9fc6e72c911e99681dca9049399ef                 True                   False   \n",
       "35c9fdde72c911e98630dca9049399ef                 True                   False   \n",
       "35c9feb072c911e9ab4cdca9049399ef                False                    True   \n",
       "35c9ff7072c911e9900ddca9049399ef                False                    True   \n",
       "35ca002672c911e99effdca9049399ef                False                    True   \n",
       "\n",
       "                                  n_days_on_platform  has_daily_goal  \\\n",
       "user_id                                                                \n",
       "35c9fc6e72c911e99681dca9049399ef            0.352917           False   \n",
       "35c9fdde72c911e98630dca9049399ef            0.051250            True   \n",
       "35c9feb072c911e9ab4cdca9049399ef            0.198750           False   \n",
       "35c9ff7072c911e9900ddca9049399ef            0.047917            True   \n",
       "35ca002672c911e99effdca9049399ef            0.812083           False   \n",
       "\n",
       "                                  pct_days_active  log_lessons_per_day  \n",
       "user_id                                                                 \n",
       "35c9fc6e72c911e99681dca9049399ef         0.937500             0.572682  \n",
       "35c9fdde72c911e98630dca9049399ef         0.552083             0.528509  \n",
       "35c9feb072c911e9ab4cdca9049399ef         0.302083             0.526409  \n",
       "35c9ff7072c911e9900ddca9049399ef         0.958333             0.737771  \n",
       "35ca002672c911e99effdca9049399ef         0.875000             0.571862  \n",
       "\n",
       "[5 rows x 21 columns]"
      ]
     },
     "execution_count": 93,
     "metadata": {},
     "output_type": "execute_result"
    }
   ],
   "source": [
    "df_norm.head()"
   ]
  },
  {
   "cell_type": "code",
   "execution_count": 85,
   "id": "efed6a1e-ac61-4982-a283-92ba9ca3d574",
   "metadata": {},
   "outputs": [
    {
     "name": "stdout",
     "output_type": "stream",
     "text": [
      "<class 'pandas.core.frame.DataFrame'>\n",
      "Index: 4614 entries, 35c9fc6e72c911e99681dca9049399ef to 35cf7a1772c911e9b029dca9049399ef\n",
      "Data columns (total 21 columns):\n",
      " #   Column                        Non-Null Count  Dtype   \n",
      "---  ------                        --------------  -----   \n",
      " 0   age                           4614 non-null   category\n",
      " 1   annual_income                 4614 non-null   category\n",
      " 2   country                       4614 non-null   category\n",
      " 3   duolingo_platform             4614 non-null   category\n",
      " 4   duolingo_subscriber           4614 non-null   category\n",
      " 5   duolingo_usage                4614 non-null   category\n",
      " 6   employment_status             4614 non-null   category\n",
      " 7   gender                        4614 non-null   category\n",
      " 8   primary_language_commitment   4614 non-null   category\n",
      " 9   primary_language_review       4614 non-null   category\n",
      " 10  primary_language_motivation   4614 non-null   category\n",
      " 11  primary_language_proficiency  4614 non-null   category\n",
      " 12  student                       4614 non-null   category\n",
      " 13  used_other_resources          4614 non-null   bool    \n",
      " 14  highest_course_progress       4614 non-null   float64 \n",
      " 15  took_placement_test           4614 non-null   bool    \n",
      " 16  purchased_subscription        4614 non-null   bool    \n",
      " 17  n_days_on_platform            4614 non-null   float64 \n",
      " 18  has_daily_goal                4614 non-null   bool    \n",
      " 19  pct_days_active               4614 non-null   float64 \n",
      " 20  log_lessons_per_day           4614 non-null   float64 \n",
      "dtypes: bool(4), category(13), float64(4)\n",
      "memory usage: 259.9+ KB\n"
     ]
    }
   ],
   "source": [
    "df_norm.info()"
   ]
  },
  {
   "cell_type": "code",
   "execution_count": 94,
   "id": "69836e50-6ddf-421c-80bf-809d326b128f",
   "metadata": {},
   "outputs": [
    {
     "name": "stdout",
     "output_type": "stream",
     "text": [
      "Categorical columns           : ['age', 'annual_income', 'country', 'duolingo_platform', 'duolingo_subscriber', 'duolingo_usage', 'employment_status', 'gender', 'primary_language_commitment', 'primary_language_review', 'primary_language_motivation', 'primary_language_proficiency', 'student', 'used_other_resources', 'took_placement_test', 'purchased_subscription', 'has_daily_goal']\n",
      "Categorical columns position  : [0, 1, 2, 3, 4, 5, 6, 7, 8, 9, 10, 11, 12, 13, 15, 16, 18]\n"
     ]
    }
   ],
   "source": [
    "catColumnsPos = [df_norm.columns.get_loc(col) for col in list(df_norm.select_dtypes(['bool','category']).columns)]\n",
    "print('Categorical columns           : {}'.format(list(df.select_dtypes(['bool','category']).columns)))\n",
    "print('Categorical columns position  : {}'.format(catColumnsPos))"
   ]
  },
  {
   "cell_type": "code",
   "execution_count": 95,
   "id": "ff80f3dc-496f-4a93-aa89-660597ad2adb",
   "metadata": {},
   "outputs": [
    {
     "data": {
      "text/plain": [
       "array([['18-34', '$26,000 - $75,000', 'JP', ..., False,\n",
       "        0.9374999999999999, 0.5726817466149132],\n",
       "       ['18-34', '$26,000 - $75,000', 'JP', ..., True,\n",
       "        0.5520833333333333, 0.5285086705781404],\n",
       "       ['18-34', '$76,000 - $150,000', 'JP', ..., False,\n",
       "        0.30208333333333326, 0.5264091269465605],\n",
       "       ...,\n",
       "       ['35 - 54', '$26,000 - $75,000', 'GB', ..., True,\n",
       "        0.19791666666666663, 0.6487362475580389],\n",
       "       ['55 - 74', '$151,000 or more', 'GB', ..., True,\n",
       "        0.5624999999999999, 0.49278260009174196],\n",
       "       ['55 - 74', '$26,000 - $75,000', 'FR', ..., False,\n",
       "        0.4791666666666666, 0.6339191956287543]], dtype=object)"
      ]
     },
     "execution_count": 95,
     "metadata": {},
     "output_type": "execute_result"
    }
   ],
   "source": [
    "dfMatrix = df_norm.to_numpy()"
   ]
  },
  {
   "cell_type": "code",
   "execution_count": 96,
   "id": "4a5b5433-e441-4072-8432-0f84b6cd2ed2",
   "metadata": {},
   "outputs": [
    {
     "name": "stdout",
     "output_type": "stream",
     "text": [
      "Cluster initiation: 1\n",
      "Cluster initiation: 2\n",
      "Cluster initiation: 3\n",
      "Cluster initiation: 4\n",
      "Cluster initiation: 5\n",
      "Cluster initiation: 6\n",
      "Cluster initiation: 7\n",
      "Cluster initiation: 8\n",
      "Cluster initiation: 9\n"
     ]
    }
   ],
   "source": [
    "cost = []\n",
    "for cluster in range(1, 10):\n",
    "    try:\n",
    "        kprototype = KPrototypes(n_jobs = -1, n_clusters = cluster, init = 'Huang', random_state = 42)\n",
    "        kprototype.fit_predict(dfMatrix, categorical = catColumnsPos)\n",
    "        cost.append(kprototype.cost_)\n",
    "        print('Cluster initiation: {}'.format(cluster))\n",
    "    except:\n",
    "        break"
   ]
  },
  {
   "cell_type": "code",
   "execution_count": 100,
   "id": "d9600039-b371-4352-a0c7-c0a1c6a54a19",
   "metadata": {},
   "outputs": [
    {
     "data": {
      "text/html": [
       "<div>\n",
       "<style scoped>\n",
       "    .dataframe tbody tr th:only-of-type {\n",
       "        vertical-align: middle;\n",
       "    }\n",
       "\n",
       "    .dataframe tbody tr th {\n",
       "        vertical-align: top;\n",
       "    }\n",
       "\n",
       "    .dataframe thead th {\n",
       "        text-align: right;\n",
       "    }\n",
       "</style>\n",
       "<table border=\"1\" class=\"dataframe\">\n",
       "  <thead>\n",
       "    <tr style=\"text-align: right;\">\n",
       "      <th></th>\n",
       "      <th>Cluster</th>\n",
       "      <th>Cost</th>\n",
       "    </tr>\n",
       "  </thead>\n",
       "  <tbody>\n",
       "    <tr>\n",
       "      <th>0</th>\n",
       "      <td>1</td>\n",
       "      <td>6376.549030</td>\n",
       "    </tr>\n",
       "    <tr>\n",
       "      <th>1</th>\n",
       "      <td>2</td>\n",
       "      <td>5461.276614</td>\n",
       "    </tr>\n",
       "    <tr>\n",
       "      <th>2</th>\n",
       "      <td>3</td>\n",
       "      <td>5075.332122</td>\n",
       "    </tr>\n",
       "    <tr>\n",
       "      <th>3</th>\n",
       "      <td>4</td>\n",
       "      <td>4897.257881</td>\n",
       "    </tr>\n",
       "    <tr>\n",
       "      <th>4</th>\n",
       "      <td>5</td>\n",
       "      <td>4760.894062</td>\n",
       "    </tr>\n",
       "    <tr>\n",
       "      <th>5</th>\n",
       "      <td>6</td>\n",
       "      <td>4596.685241</td>\n",
       "    </tr>\n",
       "    <tr>\n",
       "      <th>6</th>\n",
       "      <td>7</td>\n",
       "      <td>4526.213339</td>\n",
       "    </tr>\n",
       "    <tr>\n",
       "      <th>7</th>\n",
       "      <td>8</td>\n",
       "      <td>4392.090862</td>\n",
       "    </tr>\n",
       "    <tr>\n",
       "      <th>8</th>\n",
       "      <td>9</td>\n",
       "      <td>4366.997749</td>\n",
       "    </tr>\n",
       "  </tbody>\n",
       "</table>\n",
       "</div>"
      ],
      "text/plain": [
       "   Cluster         Cost\n",
       "0        1  6376.549030\n",
       "1        2  5461.276614\n",
       "2        3  5075.332122\n",
       "3        4  4897.257881\n",
       "4        5  4760.894062\n",
       "5        6  4596.685241\n",
       "6        7  4526.213339\n",
       "7        8  4392.090862\n",
       "8        9  4366.997749"
      ]
     },
     "execution_count": 100,
     "metadata": {},
     "output_type": "execute_result"
    }
   ],
   "source": [
    "df_cost = pd.DataFrame({'Cluster':range(1, 10), 'Cost':cost})"
   ]
  },
  {
   "cell_type": "code",
   "execution_count": 110,
   "id": "2e48721e-7e5f-49f6-bd35-0cee4b0f2b69",
   "metadata": {},
   "outputs": [
    {
     "data": {
      "image/png": "[encoded data removed]",
      "text/plain": [
       "<Figure size 576x396 with 1 Axes>"
      ]
     },
     "metadata": {
      "needs_background": "light"
     },
     "output_type": "display_data"
    }
   ],
   "source": [
    "fig, ax = plt.subplots()\n",
    "ax.plot(df_cost['Cluster'], df_cost['Cost'], 'o-')\n",
    "plt.show()"
   ]
  },
  {
   "cell_type": "code",
   "execution_count": 111,
   "id": "e0a0e7c7-a034-465e-842e-0aa2c70f0b8a",
   "metadata": {},
   "outputs": [
    {
     "data": {
      "text/plain": [
       "array([0, 0, 2, ..., 2, 1, 0], dtype=uint16)"
      ]
     },
     "execution_count": 111,
     "metadata": {},
     "output_type": "execute_result"
    }
   ],
   "source": [
    "kprototype = KPrototypes(n_jobs = -1, n_clusters = 3, init = 'Huang', random_state = 42)\n",
    "kprototype.fit_predict(dfMatrix, categorical = catColumnsPos)"
   ]
  },
  {
   "cell_type": "code",
   "execution_count": 112,
   "id": "24b25fa7-39c9-4005-a2db-8c35623b21c3",
   "metadata": {
    "tags": []
   },
   "outputs": [
    {
     "data": {
      "text/plain": [
       "array([['0.4900457787714305', '0.3089392189218926', '0.6410478547854769',\n",
       "        '0.6162199923687922', '35 - 54', '$0 - $10,000', 'RU',\n",
       "        'Android phone or tablet',\n",
       "        'No, I have never paid for Duolingo Plus', 'Daily',\n",
       "        'Employed full-time', 'Male',\n",
       "        \"I'm very committed to learning this language.\",\n",
       "        \"I am using Duolingo to review a language I've studied before.\",\n",
       "        'I need to be able to speak the local language where I live',\n",
       "        'Intermediate', 'Not currently a student', 'True', 'True',\n",
       "        'False', 'False'],\n",
       "       ['0.48563004806501203', '0.30833845366103396',\n",
       "        '0.7757856502816164', '0.6244664318148689', '55 - 74',\n",
       "        '$26,000 - $75,000', 'JP', 'iPhone or iPad',\n",
       "        'Yes, I currently pay for Duolingo Plus', 'Daily',\n",
       "        'Employed full-time', 'Female',\n",
       "        \"I'm very committed to learning this language.\",\n",
       "        'I am using Duolingo to learn this language for the first time.',\n",
       "        'I want to connect with my heritage or identity', 'Beginner',\n",
       "        'Not currently a student', 'True', 'False', 'True', 'True'],\n",
       "       ['0.2872768832163485', '0.19140836579484477',\n",
       "        '0.1988441383787789', '0.6166469059968752', '18-34',\n",
       "        '$0 - $10,000', 'GB', 'Android phone or tablet',\n",
       "        'No, I have never paid for Duolingo Plus', 'Daily',\n",
       "        'Employed full-time', 'Female',\n",
       "        \"I'm moderately committed to learning this language.\",\n",
       "        'I am using Duolingo to learn this language for the first time.',\n",
       "        'I need to be able to speak the local language where I live',\n",
       "        'Beginner', 'Not currently a student', 'True', 'False', 'False',\n",
       "        'False']], dtype='<U62')"
      ]
     },
     "execution_count": 112,
     "metadata": {},
     "output_type": "execute_result"
    }
   ],
   "source": [
    "kprototype.cluster_centroids_"
   ]
  },
  {
   "cell_type": "code",
   "execution_count": 113,
   "id": "8c85be5d-2501-425e-8e36-2450e205907a",
   "metadata": {},
   "outputs": [
    {
     "data": {
      "text/plain": [
       "7"
      ]
     },
     "execution_count": 113,
     "metadata": {},
     "output_type": "execute_result"
    }
   ],
   "source": [
    "kprototype.n_iter_"
   ]
  },
  {
   "cell_type": "code",
   "execution_count": 116,
   "id": "e13b8085-23b4-4230-ab99-4bf5cef63c5d",
   "metadata": {},
   "outputs": [],
   "source": [
    "df['Cluster Labels'] = kprototype.labels_\n",
    "df['Segment'] = df['Cluster Labels'].map({0:'A', 1:'B', 2:'C'})"
   ]
  },
  {
   "cell_type": "code",
   "execution_count": 117,
   "id": "e2bc171d-3e0a-48cf-8db6-4c9c99f10424",
   "metadata": {},
   "outputs": [],
   "source": [
    "df['Segment'] = df['Segment'].astype('category')\n",
    "df['Segment'] = df['Segment'].cat.reorder_categories(['First','Second','Third'])"
   ]
  },
  {
   "cell_type": "code",
   "execution_count": 120,
   "id": "5aa68a02-b40a-4c0e-b191-deec1f4e071b",
   "metadata": {},
   "outputs": [
    {
     "name": "stdout",
     "output_type": "stream",
     "text": [
      "<class 'pandas.core.frame.DataFrame'>\n",
      "Int64Index: 4614 entries, 0 to 6185\n",
      "Data columns (total 24 columns):\n",
      " #   Column                        Non-Null Count  Dtype   \n",
      "---  ------                        --------------  -----   \n",
      " 0   user_id                       4614 non-null   object  \n",
      " 1   age                           4614 non-null   category\n",
      " 2   annual_income                 4614 non-null   category\n",
      " 3   country                       4614 non-null   category\n",
      " 4   duolingo_platform             4614 non-null   category\n",
      " 5   duolingo_subscriber           4614 non-null   category\n",
      " 6   duolingo_usage                4614 non-null   category\n",
      " 7   employment_status             4614 non-null   category\n",
      " 8   gender                        4614 non-null   category\n",
      " 9   primary_language_commitment   4614 non-null   category\n",
      " 10  primary_language_review       4614 non-null   category\n",
      " 11  primary_language_motivation   4614 non-null   category\n",
      " 12  primary_language_proficiency  4614 non-null   category\n",
      " 13  student                       4614 non-null   category\n",
      " 14  used_other_resources          4614 non-null   bool    \n",
      " 15  highest_course_progress       4614 non-null   float64 \n",
      " 16  took_placement_test           4614 non-null   bool    \n",
      " 17  purchased_subscription        4614 non-null   bool    \n",
      " 18  n_days_on_platform            4614 non-null   float64 \n",
      " 19  has_daily_goal                4614 non-null   bool    \n",
      " 20  pct_days_active               4614 non-null   float64 \n",
      " 21  log_lessons_per_day           4614 non-null   float64 \n",
      " 22  Cluster Labels                4614 non-null   uint16  \n",
      " 23  Segment                       4614 non-null   category\n",
      "dtypes: bool(4), category(14), float64(4), object(1), uint16(1)\n",
      "memory usage: 309.5+ KB\n"
     ]
    }
   ],
   "source": [
    "df.info()"
   ]
  },
  {
   "cell_type": "code",
   "execution_count": 153,
   "id": "80fab162-91f7-44c6-90fb-0de2bbe31122",
   "metadata": {},
   "outputs": [],
   "source": [
    "df.rename(columns = {'Cluster Labels':'Total'}, inplace = True)\n",
    "summary = df.groupby('Segment').agg(\n",
    "    {\n",
    "        'Total':'count',\n",
    "        'country': lambda x: x.value_counts().index[0],\n",
    "        'employment_status': lambda x: x.value_counts().index[0],\n",
    "        'student': lambda x: x.value_counts().index[0],\n",
    "        'gender': lambda x: x.value_counts().index[0],\n",
    "        'age': lambda x: x.value_counts().index[0],\n",
    "#         'age': lambda x: x.cat.categories[np.median(x.cat.codes).astype(int)],\n",
    "        'annual_income': lambda x: x.cat.categories[np.median(x.cat.codes).astype(int)],\n",
    "#         'annual_income': lambda x: x.value_counts().index[0],\n",
    "        'duolingo_platform': lambda x: x.value_counts().index[0],\n",
    "        'duolingo_subscriber': lambda x: x.value_counts().index[0],\n",
    "#         'duolingo_usage' : lambda x: x.value_counts().index[0],\n",
    "        'duolingo_usage': lambda x: x.cat.categories[np.median(x.cat.codes).astype(int)],\n",
    "        'pct_days_active': 'mean',\n",
    "        'primary_language_commitment': lambda x: x.cat.categories[np.median(x.cat.codes).astype(int)],\n",
    "        'primary_language_proficiency': lambda x: x.cat.categories[np.median(x.cat.codes).astype(int)],\n",
    "        'primary_language_review': lambda x: x.value_counts().index[0],\n",
    "        'primary_language_motivation': lambda x: x.value_counts().index[0],\n",
    "        'used_other_resources': lambda x: x.value_counts().index[0],\n",
    "        'purchased_subscription': lambda x: x.value_counts().index[0],\n",
    "        'has_daily_goal': lambda x: x.value_counts().index[0],\n",
    "        'n_days_on_platform': 'mean',\n",
    "        'highest_course_progress': 'mean',\n",
    "        'log_lessons_per_day': 'mean'\n",
    "    }\n",
    ").reset_index()"
   ]
  },
  {
   "cell_type": "code",
   "execution_count": 154,
   "id": "11248d79-4cab-4e17-a0d8-9f7db8a75929",
   "metadata": {},
   "outputs": [
    {
     "data": {
      "text/html": [
       "<div>\n",
       "<style scoped>\n",
       "    .dataframe tbody tr th:only-of-type {\n",
       "        vertical-align: middle;\n",
       "    }\n",
       "\n",
       "    .dataframe tbody tr th {\n",
       "        vertical-align: top;\n",
       "    }\n",
       "\n",
       "    .dataframe thead th {\n",
       "        text-align: right;\n",
       "    }\n",
       "</style>\n",
       "<table border=\"1\" class=\"dataframe\">\n",
       "  <thead>\n",
       "    <tr style=\"text-align: right;\">\n",
       "      <th></th>\n",
       "      <th>Segment</th>\n",
       "      <th>Total</th>\n",
       "      <th>country</th>\n",
       "      <th>employment_status</th>\n",
       "      <th>student</th>\n",
       "      <th>gender</th>\n",
       "      <th>age</th>\n",
       "      <th>annual_income</th>\n",
       "      <th>duolingo_platform</th>\n",
       "      <th>duolingo_subscriber</th>\n",
       "      <th>...</th>\n",
       "      <th>primary_language_commitment</th>\n",
       "      <th>primary_language_proficiency</th>\n",
       "      <th>primary_language_review</th>\n",
       "      <th>primary_language_motivation</th>\n",
       "      <th>used_other_resources</th>\n",
       "      <th>purchased_subscription</th>\n",
       "      <th>has_daily_goal</th>\n",
       "      <th>n_days_on_platform</th>\n",
       "      <th>highest_course_progress</th>\n",
       "      <th>lessons_per_day</th>\n",
       "    </tr>\n",
       "  </thead>\n",
       "  <tbody>\n",
       "    <tr>\n",
       "      <th>0</th>\n",
       "      <td>First</td>\n",
       "      <td>1515</td>\n",
       "      <td>RU</td>\n",
       "      <td>Employed full-time</td>\n",
       "      <td>Not currently a student</td>\n",
       "      <td>Male</td>\n",
       "      <td>35 - 54</td>\n",
       "      <td>$11,000 - $25,000</td>\n",
       "      <td>Android phone or tablet</td>\n",
       "      <td>No, I have never paid for Duolingo Plus</td>\n",
       "      <td>...</td>\n",
       "      <td>I'm very committed to learning this language.</td>\n",
       "      <td>Intermediate</td>\n",
       "      <td>I am using Duolingo to review a language I've ...</td>\n",
       "      <td>I need to be able to speak the local language ...</td>\n",
       "      <td>True</td>\n",
       "      <td>False</td>\n",
       "      <td>False</td>\n",
       "      <td>743.454125</td>\n",
       "      <td>35.574257</td>\n",
       "      <td>2.876069</td>\n",
       "    </tr>\n",
       "    <tr>\n",
       "      <th>1</th>\n",
       "      <td>Second</td>\n",
       "      <td>1302</td>\n",
       "      <td>JP</td>\n",
       "      <td>Employed full-time</td>\n",
       "      <td>Not currently a student</td>\n",
       "      <td>Female</td>\n",
       "      <td>55 - 74</td>\n",
       "      <td>$26,000 - $75,000</td>\n",
       "      <td>iPhone or iPad</td>\n",
       "      <td>Yes, I currently pay for Duolingo Plus</td>\n",
       "      <td>...</td>\n",
       "      <td>I'm very committed to learning this language.</td>\n",
       "      <td>Beginner</td>\n",
       "      <td>I am using Duolingo to learn this language for...</td>\n",
       "      <td>I want to connect with my heritage or identity</td>\n",
       "      <td>True</td>\n",
       "      <td>True</td>\n",
       "      <td>True</td>\n",
       "      <td>742.012289</td>\n",
       "      <td>35.163594</td>\n",
       "      <td>3.196170</td>\n",
       "    </tr>\n",
       "    <tr>\n",
       "      <th>2</th>\n",
       "      <td>Third</td>\n",
       "      <td>1797</td>\n",
       "      <td>GB</td>\n",
       "      <td>Employed full-time</td>\n",
       "      <td>Not currently a student</td>\n",
       "      <td>Female</td>\n",
       "      <td>18-34</td>\n",
       "      <td>$11,000 - $25,000</td>\n",
       "      <td>Android phone or tablet</td>\n",
       "      <td>No, I have never paid for Duolingo Plus</td>\n",
       "      <td>...</td>\n",
       "      <td>I'm moderately committed to learning this lang...</td>\n",
       "      <td>Beginner</td>\n",
       "      <td>I am using Duolingo to learn this language for...</td>\n",
       "      <td>I need to be able to speak the local language ...</td>\n",
       "      <td>True</td>\n",
       "      <td>False</td>\n",
       "      <td>False</td>\n",
       "      <td>461.380078</td>\n",
       "      <td>16.716750</td>\n",
       "      <td>2.892024</td>\n",
       "    </tr>\n",
       "  </tbody>\n",
       "</table>\n",
       "<p>3 rows × 22 columns</p>\n",
       "</div>"
      ],
      "text/plain": [
       "  Segment  Total country   employment_status                  student  gender  \\\n",
       "0   First   1515      RU  Employed full-time  Not currently a student    Male   \n",
       "1  Second   1302      JP  Employed full-time  Not currently a student  Female   \n",
       "2   Third   1797      GB  Employed full-time  Not currently a student  Female   \n",
       "\n",
       "       age      annual_income        duolingo_platform  \\\n",
       "0  35 - 54  $11,000 - $25,000  Android phone or tablet   \n",
       "1  55 - 74  $26,000 - $75,000           iPhone or iPad   \n",
       "2    18-34  $11,000 - $25,000  Android phone or tablet   \n",
       "\n",
       "                       duolingo_subscriber  ...  \\\n",
       "0  No, I have never paid for Duolingo Plus  ...   \n",
       "1   Yes, I currently pay for Duolingo Plus  ...   \n",
       "2  No, I have never paid for Duolingo Plus  ...   \n",
       "\n",
       "                         primary_language_commitment  \\\n",
       "0      I'm very committed to learning this language.   \n",
       "1      I'm very committed to learning this language.   \n",
       "2  I'm moderately committed to learning this lang...   \n",
       "\n",
       "   primary_language_proficiency  \\\n",
       "0                  Intermediate   \n",
       "1                      Beginner   \n",
       "2                      Beginner   \n",
       "\n",
       "                             primary_language_review  \\\n",
       "0  I am using Duolingo to review a language I've ...   \n",
       "1  I am using Duolingo to learn this language for...   \n",
       "2  I am using Duolingo to learn this language for...   \n",
       "\n",
       "                         primary_language_motivation used_other_resources  \\\n",
       "0  I need to be able to speak the local language ...                 True   \n",
       "1     I want to connect with my heritage or identity                 True   \n",
       "2  I need to be able to speak the local language ...                 True   \n",
       "\n",
       "  purchased_subscription  has_daily_goal  n_days_on_platform  \\\n",
       "0                  False           False          743.454125   \n",
       "1                   True            True          742.012289   \n",
       "2                  False           False          461.380078   \n",
       "\n",
       "   highest_course_progress  lessons_per_day  \n",
       "0                35.574257         2.876069  \n",
       "1                35.163594         3.196170  \n",
       "2                16.716750         2.892024  \n",
       "\n",
       "[3 rows x 22 columns]"
      ]
     },
     "execution_count": 154,
     "metadata": {},
     "output_type": "execute_result"
    }
   ],
   "source": [
    "summary['lessons_per_day'] = np.exp(summary['log_lessons_per_day'])-1\n",
    "summary.drop(columns=['log_lessons_per_day'], inplace=True)\n",
    "summary"
   ]
  },
  {
   "cell_type": "code",
   "execution_count": 131,
   "id": "4f532561-44bf-40b8-824f-9b5b04b1668d",
   "metadata": {},
   "outputs": [],
   "source": [
    "median_value = np.median(df[\"age\"].cat.codes).astype(int)\n",
    "# median_text = categories[int(median_value)]"
   ]
  },
  {
   "cell_type": "code",
   "execution_count": 132,
   "id": "732b153f-2a50-486b-887c-885224ba9f87",
   "metadata": {},
   "outputs": [
    {
     "data": {
      "text/plain": [
       "2"
      ]
     },
     "execution_count": 132,
     "metadata": {},
     "output_type": "execute_result"
    }
   ],
   "source": [
    "median_value"
   ]
  },
  {
   "cell_type": "code",
   "execution_count": 126,
   "id": "f184193e-b95a-4b24-91c3-05c3c574cb0a",
   "metadata": {},
   "outputs": [
    {
     "data": {
      "text/plain": [
       "['18-34', '35 - 54', 'Under 18', '75 or older', '55 - 74']\n",
       "Categories (5, object): ['Under 18' < '18-34' < '35 - 54' < '55 - 74' < '75 or older']"
      ]
     },
     "execution_count": 126,
     "metadata": {},
     "output_type": "execute_result"
    }
   ],
   "source": [
    "df['age'].unique()"
   ]
  },
  {
   "cell_type": "code",
   "execution_count": 134,
   "id": "5e4aadd6-fb29-4f50-9ef2-d31d664be642",
   "metadata": {},
   "outputs": [
    {
     "data": {
      "text/plain": [
       "'35 - 54'"
      ]
     },
     "execution_count": 134,
     "metadata": {},
     "output_type": "execute_result"
    }
   ],
   "source": [
    "df['age'].cat.categories[np.median(df[\"age\"].cat.codes).astype(int)]"
   ]
  },
  {
   "cell_type": "code",
   "execution_count": null,
   "id": "85217bc2-2c67-4923-b80e-30cdcce90f29",
   "metadata": {},
   "outputs": [],
   "source": []
  }
 ],
 "metadata": {
  "kernelspec": {
   "display_name": "Python 3",
   "language": "python",
   "name": "python3"
  },
  "language_info": {
   "codemirror_mode": {
    "name": "ipython",
    "version": 3
   },
   "file_extension": ".py",
   "mimetype": "text/x-python",
   "name": "python",
   "nbconvert_exporter": "python",
   "pygments_lexer": "ipython3",
   "version": "3.9.4"
  }
 },
 "nbformat": 4,
 "nbformat_minor": 5
}

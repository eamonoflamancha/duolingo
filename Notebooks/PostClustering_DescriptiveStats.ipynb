{
 "cells": [
  {
   "cell_type": "code",
   "execution_count": 81,
   "id": "480cb1ac-1b69-4457-9366-a61e9b0aeb2f",
   "metadata": {},
   "outputs": [],
   "source": [
    "import pandas as pd\n",
    "import numpy as np\n",
    "from matplotlib import pyplot as plt\n",
    "\n",
    "%matplotlib inline\n",
    "plt.style.use('seaborn-notebook')"
   ]
  },
  {
   "cell_type": "code",
   "execution_count": 1,
   "id": "af3501b3-960a-48a8-9623-1f15eaf6c4f7",
   "metadata": {},
   "outputs": [],
   "source": [
    "%store -r"
   ]
  },
  {
   "cell_type": "code",
   "execution_count": 2,
   "id": "288329a5-b792-43aa-a9e3-ba3856920990",
   "metadata": {},
   "outputs": [
    {
     "name": "stdout",
     "output_type": "stream",
     "text": [
      "<class 'pandas.core.frame.DataFrame'>\n",
      "Index: 4614 entries, 35c9fc6e72c911e99681dca9049399ef to 35cf7a1772c911e9b029dca9049399ef\n",
      "Data columns (total 23 columns):\n",
      " #   Column                        Non-Null Count  Dtype   \n",
      "---  ------                        --------------  -----   \n",
      " 0   age                           4614 non-null   category\n",
      " 1   annual_income                 4614 non-null   category\n",
      " 2   country                       4614 non-null   category\n",
      " 3   duolingo_platform             4614 non-null   category\n",
      " 4   duolingo_subscriber           4614 non-null   category\n",
      " 5   duolingo_usage                4614 non-null   category\n",
      " 6   employment_status             4614 non-null   category\n",
      " 7   gender                        4614 non-null   category\n",
      " 8   primary_language_commitment   4614 non-null   category\n",
      " 9   primary_language_review       4614 non-null   category\n",
      " 10  primary_language_motivation   4614 non-null   category\n",
      " 11  primary_language_proficiency  4614 non-null   category\n",
      " 12  student                       4614 non-null   category\n",
      " 13  used_other_resources          4614 non-null   bool    \n",
      " 14  highest_course_progress       4614 non-null   float64 \n",
      " 15  took_placement_test           4614 non-null   bool    \n",
      " 16  purchased_subscription        4614 non-null   bool    \n",
      " 17  n_days_on_platform            4614 non-null   float64 \n",
      " 18  has_daily_goal                4614 non-null   bool    \n",
      " 19  pct_days_active               4614 non-null   float64 \n",
      " 20  log_lessons_per_day           4614 non-null   float64 \n",
      " 21  Total                         4614 non-null   uint16  \n",
      " 22  Segment                       4614 non-null   category\n",
      "dtypes: bool(4), category(14), float64(4), uint16(1)\n",
      "memory usage: 270.9+ KB\n"
     ]
    }
   ],
   "source": [
    "df_clusters.info()"
   ]
  },
  {
   "cell_type": "code",
   "execution_count": 27,
   "id": "7babb3fd-2424-4fdf-af8e-2eb65ff897c7",
   "metadata": {},
   "outputs": [
    {
     "data": {
      "text/html": [
       "<div>\n",
       "<style scoped>\n",
       "    .dataframe tbody tr th:only-of-type {\n",
       "        vertical-align: middle;\n",
       "    }\n",
       "\n",
       "    .dataframe tbody tr th {\n",
       "        vertical-align: top;\n",
       "    }\n",
       "\n",
       "    .dataframe thead th {\n",
       "        text-align: right;\n",
       "    }\n",
       "</style>\n",
       "<table border=\"1\" class=\"dataframe\">\n",
       "  <thead>\n",
       "    <tr style=\"text-align: right;\">\n",
       "      <th></th>\n",
       "      <th>Segment</th>\n",
       "      <th>annual_income</th>\n",
       "      <th>Count</th>\n",
       "    </tr>\n",
       "  </thead>\n",
       "  <tbody>\n",
       "    <tr>\n",
       "      <th>0</th>\n",
       "      <td>A</td>\n",
       "      <td>$0 - $10,000</td>\n",
       "      <td>547</td>\n",
       "    </tr>\n",
       "    <tr>\n",
       "      <th>1</th>\n",
       "      <td>A</td>\n",
       "      <td>$11,000 - $25,000</td>\n",
       "      <td>326</td>\n",
       "    </tr>\n",
       "    <tr>\n",
       "      <th>2</th>\n",
       "      <td>A</td>\n",
       "      <td>$26,000 - $75,000</td>\n",
       "      <td>399</td>\n",
       "    </tr>\n",
       "    <tr>\n",
       "      <th>3</th>\n",
       "      <td>A</td>\n",
       "      <td>$76,000 - $150,000</td>\n",
       "      <td>165</td>\n",
       "    </tr>\n",
       "    <tr>\n",
       "      <th>4</th>\n",
       "      <td>A</td>\n",
       "      <td>$151,000 or more</td>\n",
       "      <td>78</td>\n",
       "    </tr>\n",
       "    <tr>\n",
       "      <th>5</th>\n",
       "      <td>B</td>\n",
       "      <td>$0 - $10,000</td>\n",
       "      <td>163</td>\n",
       "    </tr>\n",
       "    <tr>\n",
       "      <th>6</th>\n",
       "      <td>B</td>\n",
       "      <td>$11,000 - $25,000</td>\n",
       "      <td>188</td>\n",
       "    </tr>\n",
       "    <tr>\n",
       "      <th>7</th>\n",
       "      <td>B</td>\n",
       "      <td>$26,000 - $75,000</td>\n",
       "      <td>505</td>\n",
       "    </tr>\n",
       "    <tr>\n",
       "      <th>8</th>\n",
       "      <td>B</td>\n",
       "      <td>$76,000 - $150,000</td>\n",
       "      <td>264</td>\n",
       "    </tr>\n",
       "    <tr>\n",
       "      <th>9</th>\n",
       "      <td>B</td>\n",
       "      <td>$151,000 or more</td>\n",
       "      <td>182</td>\n",
       "    </tr>\n",
       "    <tr>\n",
       "      <th>10</th>\n",
       "      <td>C</td>\n",
       "      <td>$0 - $10,000</td>\n",
       "      <td>882</td>\n",
       "    </tr>\n",
       "    <tr>\n",
       "      <th>11</th>\n",
       "      <td>C</td>\n",
       "      <td>$11,000 - $25,000</td>\n",
       "      <td>371</td>\n",
       "    </tr>\n",
       "    <tr>\n",
       "      <th>12</th>\n",
       "      <td>C</td>\n",
       "      <td>$26,000 - $75,000</td>\n",
       "      <td>394</td>\n",
       "    </tr>\n",
       "    <tr>\n",
       "      <th>13</th>\n",
       "      <td>C</td>\n",
       "      <td>$76,000 - $150,000</td>\n",
       "      <td>109</td>\n",
       "    </tr>\n",
       "    <tr>\n",
       "      <th>14</th>\n",
       "      <td>C</td>\n",
       "      <td>$151,000 or more</td>\n",
       "      <td>41</td>\n",
       "    </tr>\n",
       "  </tbody>\n",
       "</table>\n",
       "</div>"
      ],
      "text/plain": [
       "   Segment       annual_income  Count\n",
       "0        A        $0 - $10,000    547\n",
       "1        A   $11,000 - $25,000    326\n",
       "2        A   $26,000 - $75,000    399\n",
       "3        A  $76,000 - $150,000    165\n",
       "4        A    $151,000 or more     78\n",
       "5        B        $0 - $10,000    163\n",
       "6        B   $11,000 - $25,000    188\n",
       "7        B   $26,000 - $75,000    505\n",
       "8        B  $76,000 - $150,000    264\n",
       "9        B    $151,000 or more    182\n",
       "10       C        $0 - $10,000    882\n",
       "11       C   $11,000 - $25,000    371\n",
       "12       C   $26,000 - $75,000    394\n",
       "13       C  $76,000 - $150,000    109\n",
       "14       C    $151,000 or more     41"
      ]
     },
     "execution_count": 27,
     "metadata": {},
     "output_type": "execute_result"
    }
   ],
   "source": [
    "df_income = df_clusters.groupby(['Segment', 'annual_income']).size().reset_index()\n",
    "df_income.rename(columns = {0:'Count'}, inplace = True)\n",
    "df_income"
   ]
  },
  {
   "cell_type": "code",
   "execution_count": 82,
   "id": "2c239de9-ed68-49de-9fdd-600e8a2d02f0",
   "metadata": {},
   "outputs": [
    {
     "data": {
      "image/png": "[encoded data removed]",
      "text/plain": [
       "<Figure size 576x396 with 1 Axes>"
      ]
     },
     "metadata": {
      "needs_background": "light"
     },
     "output_type": "display_data"
    }
   ],
   "source": [
    "labels = list(df_income['annual_income'].cat.categories)\n",
    "a_counts = df_income[df_income['Segment']=='A']['Count']\n",
    "b_counts = df_income[df_income['Segment']=='B']['Count']\n",
    "c_counts = df_income[df_income['Segment']=='C']['Count']\n",
    "\n",
    "width = 0.3  # the width of the bars\n",
    "x = np.arange(len(labels))\n",
    "x_a = [i - width for i in x]\n",
    "x_b = x\n",
    "x_c = [i + width for i in x]\n",
    "\n",
    "fig, ax = plt.subplots()\n",
    "bars_a = ax.bar(x_a, a_counts, width, label='A')\n",
    "bars_b = ax.bar(x_b, b_counts, width, label='B')\n",
    "bars_c = ax.bar(x_c, c_counts, width, label='C')\n",
    "\n",
    "# Add some text for labels, title and custom x-axis tick labels, etc.\n",
    "ax.set_ylabel('Users', fontweight='bold')\n",
    "ax.set_xlabel('Annual Income', fontweight='bold')\n",
    "ax.set_title('Users by cluster and income', fontweight='bold')\n",
    "ax.set_xticks(x)\n",
    "ax.set_xticklabels(labels, rotation=45)\n",
    "ax.legend()\n",
    "\n",
    "plt.savefig(\"../images/users_by_cluster_and_income.png\")\n",
    "\n",
    "plt.show()"
   ]
  },
  {
   "cell_type": "code",
   "execution_count": 83,
   "id": "94794906-4901-4a23-8ec1-c719627e5fce",
   "metadata": {},
   "outputs": [],
   "source": [
    "df_age = df_clusters.groupby(['Segment', 'age']).size().reset_index()\n",
    "df_age.rename(columns = {0:'Count'}, inplace = True)"
   ]
  },
  {
   "cell_type": "code",
   "execution_count": 84,
   "id": "691b427a-7116-4fd2-9b65-9ff5c1f00412",
   "metadata": {},
   "outputs": [
    {
     "data": {
      "image/png": "[encoded data removed]",
      "text/plain": [
       "<Figure size 576x396 with 1 Axes>"
      ]
     },
     "metadata": {
      "needs_background": "light"
     },
     "output_type": "display_data"
    }
   ],
   "source": [
    "labels = list(df_age['age'].cat.categories)\n",
    "a_counts = df_age[df_age['Segment']=='A']['Count']\n",
    "b_counts = df_age[df_age['Segment']=='B']['Count']\n",
    "c_counts = df_age[df_age['Segment']=='C']['Count']\n",
    "\n",
    "width = 0.3  # the width of the bars\n",
    "x = np.arange(len(labels))\n",
    "x_a = [i - width for i in x]\n",
    "x_b = x\n",
    "x_c = [i + width for i in x]\n",
    "\n",
    "fig, ax = plt.subplots()\n",
    "bars_a = ax.bar(x_a, a_counts, width, label='A')\n",
    "bars_b = ax.bar(x_b, b_counts, width, label='B')\n",
    "bars_c = ax.bar(x_c, c_counts, width, label='C')\n",
    "\n",
    "# Add some text for labels, title and custom x-axis tick labels, etc.\n",
    "ax.set_ylabel('Users', fontweight='bold')\n",
    "ax.set_xlabel('Age', fontweight='bold')\n",
    "ax.set_title('Users by cluster and age', fontweight='bold')\n",
    "ax.set_xticks(x)\n",
    "ax.set_xticklabels(labels, rotation=45)\n",
    "ax.legend()\n",
    "\n",
    "plt.savefig(\"../images/users_by_cluster_and_age.png\")\n",
    "\n",
    "plt.show()"
   ]
  },
  {
   "cell_type": "code",
   "execution_count": 85,
   "id": "7b77f703-e671-4a19-a6fc-87343993600f",
   "metadata": {},
   "outputs": [],
   "source": [
    "df_country = df_clusters.groupby(['Segment', 'country']).size().reset_index()\n",
    "df_country.rename(columns = {0:'Count'}, inplace = True)"
   ]
  },
  {
   "cell_type": "code",
   "execution_count": 86,
   "id": "77cdc0a6-aaac-4591-a28a-0d493080b714",
   "metadata": {},
   "outputs": [
    {
     "data": {
      "image/png": "[encoded data removed]",
      "text/plain": [
       "<Figure size 576x396 with 1 Axes>"
      ]
     },
     "metadata": {
      "needs_background": "light"
     },
     "output_type": "display_data"
    }
   ],
   "source": [
    "labels = list(df_country['country'].cat.categories)\n",
    "a_counts = df_country[df_country['Segment']=='A']['Count']\n",
    "b_counts = df_country[df_country['Segment']=='B']['Count']\n",
    "c_counts = df_country[df_country['Segment']=='C']['Count']\n",
    "\n",
    "width = 0.3  # the width of the bars\n",
    "x = np.arange(len(labels))\n",
    "x_a = [i - width for i in x]\n",
    "x_b = x\n",
    "x_c = [i + width for i in x]\n",
    "\n",
    "fig, ax = plt.subplots()\n",
    "bars_a = ax.bar(x_a, a_counts, width, label='A')\n",
    "bars_b = ax.bar(x_b, b_counts, width, label='B')\n",
    "bars_c = ax.bar(x_c, c_counts, width, label='C')\n",
    "\n",
    "# Add some text for labels, title and custom x-axis tick labels, etc.\n",
    "ax.set_ylabel('Users', fontweight='bold')\n",
    "ax.set_xlabel('Country', fontweight='bold')\n",
    "ax.set_title('Users by cluster and country', fontweight='bold')\n",
    "ax.set_xticks(x)\n",
    "ax.set_xticklabels(labels, rotation=45)\n",
    "ax.legend()\n",
    "\n",
    "plt.savefig(\"../images/users_by_cluster_and_country.png\")\n",
    "\n",
    "plt.show()"
   ]
  },
  {
   "cell_type": "code",
   "execution_count": 87,
   "id": "f5b2eb68-b20a-4523-ae59-1cc266d06e64",
   "metadata": {},
   "outputs": [
    {
     "data": {
      "image/png": "[encoded data removed]",
      "text/plain": [
       "<Figure size 576x432 with 1 Axes>"
      ]
     },
     "metadata": {
      "needs_background": "light"
     },
     "output_type": "display_data"
    }
   ],
   "source": [
    "data_a = list(df_clusters[df_clusters['Segment']=='A']['highest_course_progress'])\n",
    "data_b = list(df_clusters[df_clusters['Segment']=='B']['highest_course_progress'])\n",
    "data_c = list(df_clusters[df_clusters['Segment']=='C']['highest_course_progress'])\n",
    "\n",
    "plt.figure(figsize=(8,6))\n",
    "plt.hist(data_a, bins=30, alpha=0.5, label=\"A\")\n",
    "plt.hist(data_b, bins=30, alpha=0.5, label=\"B\")\n",
    "plt.hist(data_c, bins=30, alpha=0.5, label=\"C\")\n",
    "\n",
    "plt.xlabel(\"Highest Course Progress\", size=14)\n",
    "plt.ylabel(\"Count\", size=14)\n",
    "plt.title(\"Histograms of Highest Course Progress by Cluster\")\n",
    "plt.legend(loc='upper right')\n",
    "plt.savefig(\"../images/hist_highest_course_progress.png\")\n",
    "\n",
    "plt.show()"
   ]
  },
  {
   "cell_type": "code",
   "execution_count": 88,
   "id": "7a31af95-8b9c-4a2b-a39b-35cbc46ee150",
   "metadata": {},
   "outputs": [
    {
     "data": {
      "image/png": "[encoded data removed]",
      "text/plain": [
       "<Figure size 576x432 with 1 Axes>"
      ]
     },
     "metadata": {
      "needs_background": "light"
     },
     "output_type": "display_data"
    }
   ],
   "source": [
    "data_a = list(df_clusters[df_clusters['Segment']=='A']['pct_days_active'])\n",
    "data_b = list(df_clusters[df_clusters['Segment']=='B']['pct_days_active'])\n",
    "data_c = list(df_clusters[df_clusters['Segment']=='C']['pct_days_active'])\n",
    "\n",
    "plt.figure(figsize=(8,6))\n",
    "plt.hist(data_a, bins=30, alpha=0.5, label=\"A\")\n",
    "plt.hist(data_b, bins=30, alpha=0.5, label=\"B\")\n",
    "plt.hist(data_c, bins=30, alpha=0.5, label=\"C\")\n",
    "\n",
    "plt.xlabel(\"Percent of Days Active\", size=14)\n",
    "plt.ylabel(\"Count\", size=14)\n",
    "plt.title(\"Histograms of Percent of Days (during observation window) Active on Platform by Cluster\")\n",
    "plt.legend(loc='upper right')\n",
    "plt.savefig(\"../images/hist_pct_days_active.png\")\n",
    "\n",
    "plt.show()"
   ]
  },
  {
   "cell_type": "code",
   "execution_count": null,
   "id": "a4257d56-deef-461d-912a-f2b088e931a4",
   "metadata": {},
   "outputs": [],
   "source": []
  }
 ],
 "metadata": {
  "kernelspec": {
   "display_name": "Python 3",
   "language": "python",
   "name": "python3"
  },
  "language_info": {
   "codemirror_mode": {
    "name": "ipython",
    "version": 3
   },
   "file_extension": ".py",
   "mimetype": "text/x-python",
   "name": "python",
   "nbconvert_exporter": "python",
   "pygments_lexer": "ipython3",
   "version": "3.9.4"
  }
 },
 "nbformat": 4,
 "nbformat_minor": 5
}

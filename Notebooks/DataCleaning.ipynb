{
 "cells": [
  {
   "cell_type": "code",
   "execution_count": 1,
   "id": "e61b9961-b40e-4213-868c-1bfc1a1a0b9c",
   "metadata": {},
   "outputs": [],
   "source": [
    "import os\n",
    "import pandas as pd\n",
    "import numpy as np\n",
    "import seaborn as sns\n",
    "from matplotlib import pyplot as plt\n",
    "from pandas_profiling import ProfileReport\n",
    "from pandas.api.types import CategoricalDtype\n",
    "\n",
    "%matplotlib inline"
   ]
  },
  {
   "cell_type": "code",
   "execution_count": 2,
   "id": "8ab16d48-356f-45da-92b8-9f50e5cdf1eb",
   "metadata": {},
   "outputs": [],
   "source": [
    "survey_data_file = \"../data/survey_data.csv\"\n",
    "app_usage_file = \"../data/survey_users_app_usage.csv\""
   ]
  },
  {
   "cell_type": "code",
   "execution_count": 3,
   "id": "8bd280ac-831d-4dda-8565-9f69b9ea80c5",
   "metadata": {},
   "outputs": [],
   "source": [
    "df_survey_raw = pd.read_csv(survey_data_file)\n",
    "# df_app = pd.read_csv(app_usage_file, parse_dates=['duolingo_start_date'])"
   ]
  },
  {
   "cell_type": "code",
   "execution_count": 4,
   "id": "5053fce1-c313-4f74-bbd2-e254741a748f",
   "metadata": {},
   "outputs": [
    {
     "name": "stdout",
     "output_type": "stream",
     "text": [
      "<class 'pandas.core.frame.DataFrame'>\n",
      "RangeIndex: 6187 entries, 0 to 6186\n",
      "Data columns (total 19 columns):\n",
      " #   Column                                Non-Null Count  Dtype \n",
      "---  ------                                --------------  ----- \n",
      " 0   user_id                               6187 non-null   object\n",
      " 1   age                                   5838 non-null   object\n",
      " 2   annual_income                         5182 non-null   object\n",
      " 3   country                               6187 non-null   object\n",
      " 4   duolingo_platform                     5911 non-null   object\n",
      " 5   duolingo_subscriber                   5901 non-null   object\n",
      " 6   duolingo_usage                        5911 non-null   object\n",
      " 7   employment_status                     5730 non-null   object\n",
      " 8   future_contact                        5446 non-null   object\n",
      " 9   gender                                5838 non-null   object\n",
      " 10  other_resources                       4474 non-null   object\n",
      " 11  primary_language_commitment           6022 non-null   object\n",
      " 12  primary_language_review               6014 non-null   object\n",
      " 13  primary_language_motivation           5948 non-null   object\n",
      " 14  primary_language_motivation_followup  3715 non-null   object\n",
      " 15  primary_language_proficiency          6027 non-null   object\n",
      " 16  student                               5523 non-null   object\n",
      " 17  survey_complete                       6187 non-null   int64 \n",
      " 18  time_spent_seconds                    6187 non-null   int64 \n",
      "dtypes: int64(2), object(17)\n",
      "memory usage: 918.5+ KB\n"
     ]
    }
   ],
   "source": [
    "df_survey_raw.info()"
   ]
  },
  {
   "cell_type": "code",
   "execution_count": 5,
   "id": "5e4539b5-2c30-44a4-81dd-a8eb688081dd",
   "metadata": {},
   "outputs": [],
   "source": [
    "unique_counts = pd.DataFrame.from_records([(col, df_survey_raw[col].nunique()) for col in df_survey_raw.columns],\n",
    "                          columns=['Column_Name', 'Num_Unique']).sort_values(by=['Num_Unique'])"
   ]
  },
  {
   "cell_type": "code",
   "execution_count": 6,
   "id": "b90e4798-58f0-4071-9f9f-76bba1bd2d7d",
   "metadata": {},
   "outputs": [
    {
     "data": {
      "text/html": [
       "<div>\n",
       "<style scoped>\n",
       "    .dataframe tbody tr th:only-of-type {\n",
       "        vertical-align: middle;\n",
       "    }\n",
       "\n",
       "    .dataframe tbody tr th {\n",
       "        vertical-align: top;\n",
       "    }\n",
       "\n",
       "    .dataframe thead th {\n",
       "        text-align: right;\n",
       "    }\n",
       "</style>\n",
       "<table border=\"1\" class=\"dataframe\">\n",
       "  <thead>\n",
       "    <tr style=\"text-align: right;\">\n",
       "      <th></th>\n",
       "      <th>Column_Name</th>\n",
       "      <th>Num_Unique</th>\n",
       "    </tr>\n",
       "  </thead>\n",
       "  <tbody>\n",
       "    <tr>\n",
       "      <th>8</th>\n",
       "      <td>future_contact</td>\n",
       "      <td>2</td>\n",
       "    </tr>\n",
       "    <tr>\n",
       "      <th>12</th>\n",
       "      <td>primary_language_review</td>\n",
       "      <td>2</td>\n",
       "    </tr>\n",
       "    <tr>\n",
       "      <th>17</th>\n",
       "      <td>survey_complete</td>\n",
       "      <td>2</td>\n",
       "    </tr>\n",
       "    <tr>\n",
       "      <th>15</th>\n",
       "      <td>primary_language_proficiency</td>\n",
       "      <td>3</td>\n",
       "    </tr>\n",
       "    <tr>\n",
       "      <th>16</th>\n",
       "      <td>student</td>\n",
       "      <td>3</td>\n",
       "    </tr>\n",
       "    <tr>\n",
       "      <th>4</th>\n",
       "      <td>duolingo_platform</td>\n",
       "      <td>3</td>\n",
       "    </tr>\n",
       "    <tr>\n",
       "      <th>5</th>\n",
       "      <td>duolingo_subscriber</td>\n",
       "      <td>4</td>\n",
       "    </tr>\n",
       "    <tr>\n",
       "      <th>7</th>\n",
       "      <td>employment_status</td>\n",
       "      <td>4</td>\n",
       "    </tr>\n",
       "    <tr>\n",
       "      <th>9</th>\n",
       "      <td>gender</td>\n",
       "      <td>4</td>\n",
       "    </tr>\n",
       "    <tr>\n",
       "      <th>6</th>\n",
       "      <td>duolingo_usage</td>\n",
       "      <td>5</td>\n",
       "    </tr>\n",
       "    <tr>\n",
       "      <th>2</th>\n",
       "      <td>annual_income</td>\n",
       "      <td>5</td>\n",
       "    </tr>\n",
       "    <tr>\n",
       "      <th>11</th>\n",
       "      <td>primary_language_commitment</td>\n",
       "      <td>5</td>\n",
       "    </tr>\n",
       "    <tr>\n",
       "      <th>1</th>\n",
       "      <td>age</td>\n",
       "      <td>5</td>\n",
       "    </tr>\n",
       "    <tr>\n",
       "      <th>3</th>\n",
       "      <td>country</td>\n",
       "      <td>10</td>\n",
       "    </tr>\n",
       "    <tr>\n",
       "      <th>13</th>\n",
       "      <td>primary_language_motivation</td>\n",
       "      <td>13</td>\n",
       "    </tr>\n",
       "    <tr>\n",
       "      <th>14</th>\n",
       "      <td>primary_language_motivation_followup</td>\n",
       "      <td>146</td>\n",
       "    </tr>\n",
       "    <tr>\n",
       "      <th>10</th>\n",
       "      <td>other_resources</td>\n",
       "      <td>252</td>\n",
       "    </tr>\n",
       "    <tr>\n",
       "      <th>18</th>\n",
       "      <td>time_spent_seconds</td>\n",
       "      <td>1305</td>\n",
       "    </tr>\n",
       "    <tr>\n",
       "      <th>0</th>\n",
       "      <td>user_id</td>\n",
       "      <td>6150</td>\n",
       "    </tr>\n",
       "  </tbody>\n",
       "</table>\n",
       "</div>"
      ],
      "text/plain": [
       "                             Column_Name  Num_Unique\n",
       "8                         future_contact           2\n",
       "12               primary_language_review           2\n",
       "17                       survey_complete           2\n",
       "15          primary_language_proficiency           3\n",
       "16                               student           3\n",
       "4                      duolingo_platform           3\n",
       "5                    duolingo_subscriber           4\n",
       "7                      employment_status           4\n",
       "9                                 gender           4\n",
       "6                         duolingo_usage           5\n",
       "2                          annual_income           5\n",
       "11           primary_language_commitment           5\n",
       "1                                    age           5\n",
       "3                                country          10\n",
       "13           primary_language_motivation          13\n",
       "14  primary_language_motivation_followup         146\n",
       "10                       other_resources         252\n",
       "18                    time_spent_seconds        1305\n",
       "0                                user_id        6150"
      ]
     },
     "execution_count": 6,
     "metadata": {},
     "output_type": "execute_result"
    }
   ],
   "source": [
    "unique_counts"
   ]
  },
  {
   "cell_type": "code",
   "execution_count": 7,
   "id": "3c03971c-7b8b-4681-9b7c-821cb3fe56a7",
   "metadata": {
    "tags": []
   },
   "outputs": [],
   "source": [
    "df_survey = df_survey_raw.copy()"
   ]
  },
  {
   "cell_type": "code",
   "execution_count": 8,
   "id": "ccf741ea-9a4e-4d1f-836a-e329cf62b708",
   "metadata": {},
   "outputs": [
    {
     "name": "stdout",
     "output_type": "stream",
     "text": [
      "The data contains 6187 entries, but only 5729 where survey_complete is True. Dropping 458 rows\n"
     ]
    }
   ],
   "source": [
    "#only keep results where survey was completed\n",
    "total_rows = df_survey.shape[0]\n",
    "completed_surveys = df_survey['survey_complete'].sum()\n",
    "print('The data contains {} entries, but only {} where survey_complete is True. Dropping {} rows' \\\n",
    "      .format(total_rows, completed_surveys, total_rows-completed_surveys))"
   ]
  },
  {
   "cell_type": "code",
   "execution_count": 9,
   "id": "25a0cf11-6b91-419c-a506-6902166954be",
   "metadata": {},
   "outputs": [],
   "source": [
    "index_names = df_survey[df_survey['survey_complete']==0].index\n",
    "df_survey.drop(index_names, inplace=True)"
   ]
  },
  {
   "cell_type": "code",
   "execution_count": 10,
   "id": "aa33b94c-003b-4e3f-a9c0-f1c45a6f41da",
   "metadata": {},
   "outputs": [],
   "source": [
    "# I don't care how long it took people to complete the survey, so dropping that column\n",
    "# Also, we've already filterd on survey_complete == 1, so dropping that column\n",
    "# Also don't care if we can contact the user again\n",
    "df_survey.drop(columns=['time_spent_seconds', 'survey_complete', 'future_contact'], inplace=True)\n",
    "# 'primary_language_motivation_followup' has high cardinality and lots of NaN's - not useful here\n",
    "df_survey.drop(columns=['primary_language_motivation_followup'], inplace=True)"
   ]
  },
  {
   "cell_type": "code",
   "execution_count": 11,
   "id": "73da4208-5d25-49b2-8a1e-f176b3951ae8",
   "metadata": {},
   "outputs": [],
   "source": [
    "# Now let's find duplicate entries by user_id\n",
    "duplicate_users = df_survey[df_survey.duplicated(['user_id'])]\n",
    "# duplicate_users.shape[0] -> there are 35 duplicates\n",
    "# Let's drop the duplicates, and choose to keep the first entry per user\n",
    "df_survey.drop_duplicates(subset=['user_id'], keep='first', inplace=True)"
   ]
  },
  {
   "cell_type": "code",
   "execution_count": 12,
   "id": "9e4d122d-59b0-4b72-940a-4833abc60d11",
   "metadata": {},
   "outputs": [
    {
     "name": "stdout",
     "output_type": "stream",
     "text": [
      "Unique values in column are:  ['Advanced', 'Intermediate', 'Beginner', nan]\n",
      "Total NaNs = 4\n"
     ]
    }
   ],
   "source": [
    "column_to_check = 'primary_language_proficiency'\n",
    "print('Unique values in column are: ', [x for x in df_survey[column_to_check].unique()])\n",
    "print('Total NaNs = {}'.format(df_survey[column_to_check].isnull().sum()))"
   ]
  },
  {
   "cell_type": "code",
   "execution_count": 13,
   "id": "dbaebc0d-afad-4548-991a-c559d19090aa",
   "metadata": {},
   "outputs": [],
   "source": [
    "# Now let's see if we can fill some missing values\n",
    "df_survey['duolingo_platform'].fillna('Unknown', inplace=True)\n",
    "df_survey['duolingo_subscriber'].fillna(\"I don't know if I pay for Duolingo Plus\", inplace=True)\n",
    "df_survey['duolingo_usage'].fillna(\"I don't use Duolingo\", inplace=True)\n",
    "# with 110 nan's, leaving 'employment_status' NaN for now - to be imputed later\n",
    "# 'age' has 9 Nan's, but is highly correlated with 'employment_status' and 'student' so will try to impute\n",
    "# 'annual_income' has 633 NaN's - will try to impute later\n",
    "df_survey['gender'].fillna(\"Prefer not to say\", inplace=True) # they didn't answer the question, and only 10 NaN's\n",
    "# 'primary_language_commitment' has only 6 NaN's - leaving those for now\n",
    "# 'primary_language_review' has only 13 NaN's - leaving those for now\n",
    "# 'primary_language_motivation' has only 15 NaN's - leaving those for now\n",
    "# 'primary_language_proficiency' has only 4 NaN's - leaving those for now\n",
    "# 'student' has 307 NaN's - will try to impute"
   ]
  },
  {
   "cell_type": "code",
   "execution_count": 14,
   "id": "124e5bcb-ee16-48cd-8164-b880ef5d6c3c",
   "metadata": {},
   "outputs": [],
   "source": [
    "# Next, let's encode some categorical variables where ordering doesn't matter\n",
    "df_survey['country'] = df_survey['country'].astype('category')\n",
    "df_survey['duolingo_platform'] = df_survey['duolingo_platform'].astype('category')\n",
    "df_survey['duolingo_subscriber'] = df_survey['duolingo_subscriber'].astype('category')\n",
    "df_survey['employment_status'] = df_survey['employment_status'].astype('category')\n",
    "df_survey['gender'] = df_survey['gender'].astype('category')\n",
    "df_survey['student'] = df_survey['student'].astype('category')\n",
    "df_survey['primary_language_review'] = df_survey['primary_language_review'].astype('category')\n",
    "df_survey['primary_language_motivation'] = df_survey['primary_language_motivation'].astype('category')"
   ]
  },
  {
   "cell_type": "code",
   "execution_count": 15,
   "id": "10adaa1f-27ff-4202-a335-d7c5b2981ef7",
   "metadata": {},
   "outputs": [],
   "source": [
    "# Next, mapping ordinal categories where ordering does matter\n",
    "# 'duolingo_usage'\n",
    "usage_ordering = [\"I don't use Duolingo\", \"Less than once a month\", \"Monthly\", \"Weekly\", \"Daily\"]\n",
    "usage_type = CategoricalDtype(categories=usage_ordering, ordered=True)\n",
    "df_survey['duolingo_usage'] = df_survey['duolingo_usage'].astype('category')\n",
    "df_survey['duolingo_usage'] = df_survey['duolingo_usage'].cat.reorder_categories(usage_ordering, ordered=True)\n",
    "\n",
    "# 'age'\n",
    "age_ordering = ['Under 18', '18-34', '35 - 54', '55 - 74', '75 or older']\n",
    "age_type = CategoricalDtype(categories=age_ordering, ordered=True)\n",
    "df_survey['age'] = df_survey['age'].astype('category')\n",
    "df_survey['age'] = df_survey['age'].cat.reorder_categories(age_ordering, ordered=True)\n",
    "\n",
    "# 'annual_income'\n",
    "income_ordering = ['$0 - $10,000', '$11,000 - $25,000', '$26,000 - $75,000', '$76,000 - $150,000', '$151,000 or more']\n",
    "income_type = CategoricalDtype(categories=income_ordering, ordered=True)\n",
    "df_survey['annual_income'] = df_survey['annual_income'].astype('category')\n",
    "df_survey['annual_income'] = df_survey['annual_income'].cat.reorder_categories(income_ordering, ordered=True)\n",
    "\n",
    "# 'primary_language_commitment'\n",
    "commitment_ordering = [\"I'm not at all committed to learning this language.\",\n",
    "                       \"I'm slightly committed to learning this language.\", \n",
    "                       \"I'm moderately committed to learning this language.\", \n",
    "                       \"I'm very committed to learning this language.\", \n",
    "                       \"I'm extremely committed to learning this language.\"]\n",
    "commitment_type = CategoricalDtype(categories=commitment_ordering, ordered=True)\n",
    "df_survey['primary_language_commitment'] = df_survey['primary_language_commitment'].astype('category')\n",
    "df_survey['primary_language_commitment'] = df_survey['primary_language_commitment'].cat.reorder_categories(commitment_ordering, ordered=True)\n",
    "\n",
    "# 'primary_language_proficiency'\n",
    "proficiency_ordering = ['Beginner', 'Intermediate', 'Advanced']\n",
    "proficiency_type = CategoricalDtype(categories=proficiency_ordering, ordered=True)\n",
    "df_survey['primary_language_proficiency'] = df_survey['primary_language_proficiency'].astype('category')\n",
    "df_survey['primary_language_proficiency'] = df_survey['primary_language_proficiency'].cat.reorder_categories(proficiency_ordering, ordered=True)\n"
   ]
  },
  {
   "cell_type": "code",
   "execution_count": 16,
   "id": "ce081637-6ccc-4cd4-8b06-2ac157d6eb38",
   "metadata": {},
   "outputs": [],
   "source": [
    "df_survey['used_other_resources'] = np.where(len(df_survey['other_resources'])>1, True, False)"
   ]
  },
  {
   "cell_type": "code",
   "execution_count": 17,
   "id": "15a64a76-0cef-4ed1-aa8c-cf93bef91350",
   "metadata": {},
   "outputs": [
    {
     "name": "stdout",
     "output_type": "stream",
     "text": [
      "<class 'pandas.core.frame.DataFrame'>\n",
      "Int64Index: 5694 entries, 0 to 6186\n",
      "Data columns (total 16 columns):\n",
      " #   Column                        Non-Null Count  Dtype   \n",
      "---  ------                        --------------  -----   \n",
      " 0   user_id                       5694 non-null   object  \n",
      " 1   age                           5685 non-null   category\n",
      " 2   annual_income                 5061 non-null   category\n",
      " 3   country                       5694 non-null   category\n",
      " 4   duolingo_platform             5694 non-null   category\n",
      " 5   duolingo_subscriber           5694 non-null   category\n",
      " 6   duolingo_usage                5694 non-null   category\n",
      " 7   employment_status             5584 non-null   category\n",
      " 8   gender                        5694 non-null   category\n",
      " 9   other_resources               4289 non-null   object  \n",
      " 10  primary_language_commitment   5688 non-null   category\n",
      " 11  primary_language_review       5681 non-null   category\n",
      " 12  primary_language_motivation   5679 non-null   category\n",
      " 13  primary_language_proficiency  5690 non-null   category\n",
      " 14  student                       5387 non-null   category\n",
      " 15  used_other_resources          5694 non-null   bool    \n",
      "dtypes: bool(1), category(13), object(2)\n",
      "memory usage: 214.3+ KB\n"
     ]
    }
   ],
   "source": [
    "df_survey.info()"
   ]
  },
  {
   "cell_type": "code",
   "execution_count": 18,
   "id": "29f933ff-5cb9-43c0-823e-fce2a0a2783a",
   "metadata": {
    "tags": []
   },
   "outputs": [],
   "source": [
    "df_app_raw = pd.read_csv(app_usage_file, parse_dates=['duolingo_start_date'])"
   ]
  },
  {
   "cell_type": "code",
   "execution_count": 19,
   "id": "5832468d-c615-436a-bb63-b9547afccfa6",
   "metadata": {},
   "outputs": [
    {
     "name": "stdout",
     "output_type": "stream",
     "text": [
      "<class 'pandas.core.frame.DataFrame'>\n",
      "RangeIndex: 6149 entries, 0 to 6148\n",
      "Data columns (total 12 columns):\n",
      " #   Column                   Non-Null Count  Dtype         \n",
      "---  ------                   --------------  -----         \n",
      " 0   user_id                  6149 non-null   object        \n",
      " 1   duolingo_start_date      6149 non-null   datetime64[ns]\n",
      " 2   daily_goal               2687 non-null   float64       \n",
      " 3   highest_course_progress  6135 non-null   float64       \n",
      " 4   took_placement_test      6135 non-null   object        \n",
      " 5   purchased_subscription   6149 non-null   bool          \n",
      " 6   highest_crown_count      5857 non-null   float64       \n",
      " 7   n_active_days            6149 non-null   int64         \n",
      " 8   n_lessons_started        5993 non-null   float64       \n",
      " 9   n_lessons_completed      5993 non-null   float64       \n",
      " 10  longest_streak           6149 non-null   int64         \n",
      " 11  n_days_on_platform       6149 non-null   int64         \n",
      "dtypes: bool(1), datetime64[ns](1), float64(5), int64(3), object(2)\n",
      "memory usage: 534.6+ KB\n"
     ]
    }
   ],
   "source": [
    "df_app_raw.info()"
   ]
  },
  {
   "cell_type": "code",
   "execution_count": 20,
   "id": "dca08c89-c3e1-4cb8-a4aa-b0cc471280cd",
   "metadata": {},
   "outputs": [],
   "source": [
    "df_app = df_app_raw.copy()"
   ]
  },
  {
   "cell_type": "code",
   "execution_count": 21,
   "id": "e46512b6-fee7-43a8-9176-59c477a77c91",
   "metadata": {},
   "outputs": [
    {
     "name": "stdout",
     "output_type": "stream",
     "text": [
      "Unique values in column are:  [True, False, nan]\n",
      "Total NaNs = 14\n"
     ]
    }
   ],
   "source": [
    "column_to_check = 'took_placement_test'\n",
    "print('Unique values in column are: ', [x for x in df_app[column_to_check].unique()])\n",
    "print('Total NaNs = {}'.format(df_app[column_to_check].isnull().sum()))"
   ]
  },
  {
   "cell_type": "code",
   "execution_count": 22,
   "id": "aa8c7c47-7a7d-483a-9f3a-bdf588b90915",
   "metadata": {},
   "outputs": [],
   "source": [
    "#Fill NaN's and change column types as needed\n",
    "df_app['took_placement_test'].fillna('False', inplace=True)\n",
    "df_app['took_placement_test'] = df_app['took_placement_test'].astype('bool')"
   ]
  },
  {
   "cell_type": "code",
   "execution_count": 23,
   "id": "9ed22813-063b-4b69-8b37-9b95bc0efd0c",
   "metadata": {},
   "outputs": [
    {
     "name": "stdout",
     "output_type": "stream",
     "text": [
      "96 days\n"
     ]
    }
   ],
   "source": [
    "start_date = np.datetime64('2018-08-01')\n",
    "end_date = np.datetime64('2018-11-05')\n",
    "print(end_date - start_date) \n",
    "#anything longer, the data must be wrong"
   ]
  },
  {
   "cell_type": "code",
   "execution_count": 24,
   "id": "6cc27478-092c-4a01-a502-c17de5bef4bc",
   "metadata": {},
   "outputs": [],
   "source": [
    "# calculated columns\n",
    "df_app['has_daily_goal'] = np.where(df_app['daily_goal'] > 0, True, False)\n",
    "df_app['n_active_days'] = np.where(df_app['n_active_days'] > 97, 97, df_app['n_active_days'])\n",
    "df_app['pct_days_active'] = df_app['n_active_days']/97\n",
    "df_app['lessons_per_day'] = df_app['n_lessons_started']/df_app['n_active_days']\n",
    "df_app['log_lessons_per_day'] = np.log(df_app['lessons_per_day'])"
   ]
  },
  {
   "cell_type": "code",
   "execution_count": 25,
   "id": "925ad8f6-1894-4beb-abcd-746d1b7d6026",
   "metadata": {
    "tags": []
   },
   "outputs": [],
   "source": [
    "duplicate_users = df_app[df_app.duplicated(['user_id'])]\n",
    "df_app.drop_duplicates(subset=['user_id'], keep='first', inplace=True)"
   ]
  },
  {
   "cell_type": "code",
   "execution_count": 26,
   "id": "a377d5fe-25cb-437e-b091-9fee096e09d6",
   "metadata": {},
   "outputs": [
    {
     "data": {
      "image/png": "[encoded data removed]",
      "text/plain": [
       "<Figure size 432x288 with 1 Axes>"
      ]
     },
     "metadata": {
      "needs_background": "light"
     },
     "output_type": "display_data"
    }
   ],
   "source": [
    "plt.hist(df_app['log_lessons_per_day'])\n",
    "plt.show()"
   ]
  },
  {
   "cell_type": "code",
   "execution_count": 27,
   "id": "9faac3d6-4efb-4ca0-82ef-a2765e22e0b0",
   "metadata": {},
   "outputs": [
    {
     "data": {
      "image/png": "[encoded data removed]",
      "text/plain": [
       "<Figure size 432x288 with 1 Axes>"
      ]
     },
     "metadata": {
      "needs_background": "light"
     },
     "output_type": "display_data"
    }
   ],
   "source": [
    "plt.hist(df_app['highest_course_progress'])\n",
    "plt.show()"
   ]
  },
  {
   "cell_type": "code",
   "execution_count": 28,
   "id": "78b25055-7ac2-446c-b94f-a8643c4e201a",
   "metadata": {},
   "outputs": [
    {
     "name": "stdout",
     "output_type": "stream",
     "text": [
      "<class 'pandas.core.frame.DataFrame'>\n",
      "Int64Index: 6114 entries, 0 to 6148\n",
      "Data columns (total 16 columns):\n",
      " #   Column                   Non-Null Count  Dtype         \n",
      "---  ------                   --------------  -----         \n",
      " 0   user_id                  6114 non-null   object        \n",
      " 1   duolingo_start_date      6114 non-null   datetime64[ns]\n",
      " 2   daily_goal               2670 non-null   float64       \n",
      " 3   highest_course_progress  6100 non-null   float64       \n",
      " 4   took_placement_test      6114 non-null   bool          \n",
      " 5   purchased_subscription   6114 non-null   bool          \n",
      " 6   highest_crown_count      5822 non-null   float64       \n",
      " 7   n_active_days            6114 non-null   int64         \n",
      " 8   n_lessons_started        5958 non-null   float64       \n",
      " 9   n_lessons_completed      5958 non-null   float64       \n",
      " 10  longest_streak           6114 non-null   int64         \n",
      " 11  n_days_on_platform       6114 non-null   int64         \n",
      " 12  has_daily_goal           6114 non-null   bool          \n",
      " 13  pct_days_active          6114 non-null   float64       \n",
      " 14  lessons_per_day          5958 non-null   float64       \n",
      " 15  log_lessons_per_day      5958 non-null   float64       \n",
      "dtypes: bool(3), datetime64[ns](1), float64(8), int64(3), object(1)\n",
      "memory usage: 686.6+ KB\n"
     ]
    }
   ],
   "source": [
    "df_app.info()"
   ]
  },
  {
   "cell_type": "code",
   "execution_count": 29,
   "id": "6a29f587-8db0-4658-a3a9-e10b6df75b9f",
   "metadata": {},
   "outputs": [],
   "source": [
    "df = df_survey.join(df_app.set_index('user_id'), on='user_id')"
   ]
  },
  {
   "cell_type": "code",
   "execution_count": 30,
   "id": "3a28d883-d89f-4c96-8746-2af545f09c0a",
   "metadata": {},
   "outputs": [
    {
     "name": "stdout",
     "output_type": "stream",
     "text": [
      "<class 'pandas.core.frame.DataFrame'>\n",
      "Int64Index: 5694 entries, 0 to 6186\n",
      "Data columns (total 31 columns):\n",
      " #   Column                        Non-Null Count  Dtype         \n",
      "---  ------                        --------------  -----         \n",
      " 0   user_id                       5694 non-null   object        \n",
      " 1   age                           5685 non-null   category      \n",
      " 2   annual_income                 5061 non-null   category      \n",
      " 3   country                       5694 non-null   category      \n",
      " 4   duolingo_platform             5694 non-null   category      \n",
      " 5   duolingo_subscriber           5694 non-null   category      \n",
      " 6   duolingo_usage                5694 non-null   category      \n",
      " 7   employment_status             5584 non-null   category      \n",
      " 8   gender                        5694 non-null   category      \n",
      " 9   other_resources               4289 non-null   object        \n",
      " 10  primary_language_commitment   5688 non-null   category      \n",
      " 11  primary_language_review       5681 non-null   category      \n",
      " 12  primary_language_motivation   5679 non-null   category      \n",
      " 13  primary_language_proficiency  5690 non-null   category      \n",
      " 14  student                       5387 non-null   category      \n",
      " 15  used_other_resources          5694 non-null   bool          \n",
      " 16  duolingo_start_date           5627 non-null   datetime64[ns]\n",
      " 17  daily_goal                    2459 non-null   float64       \n",
      " 18  highest_course_progress       5615 non-null   float64       \n",
      " 19  took_placement_test           5627 non-null   object        \n",
      " 20  purchased_subscription        5627 non-null   object        \n",
      " 21  highest_crown_count           5372 non-null   float64       \n",
      " 22  n_active_days                 5627 non-null   float64       \n",
      " 23  n_lessons_started             5488 non-null   float64       \n",
      " 24  n_lessons_completed           5488 non-null   float64       \n",
      " 25  longest_streak                5627 non-null   float64       \n",
      " 26  n_days_on_platform            5627 non-null   float64       \n",
      " 27  has_daily_goal                5627 non-null   object        \n",
      " 28  pct_days_active               5627 non-null   float64       \n",
      " 29  lessons_per_day               5488 non-null   float64       \n",
      " 30  log_lessons_per_day           5488 non-null   float64       \n",
      "dtypes: bool(1), category(13), datetime64[ns](1), float64(11), object(5)\n",
      "memory usage: 881.6+ KB\n"
     ]
    }
   ],
   "source": [
    "df.info()"
   ]
  },
  {
   "cell_type": "code",
   "execution_count": 31,
   "id": "5919f4da-8f92-4cd2-91a2-9550254e0d65",
   "metadata": {},
   "outputs": [],
   "source": [
    "df['took_placement_test'] = df['took_placement_test'].astype('bool')\n",
    "df['purchased_subscription'] = df['purchased_subscription'].astype('bool')\n",
    "df['has_daily_goal'] = df['has_daily_goal'].astype('bool')"
   ]
  },
  {
   "cell_type": "code",
   "execution_count": 32,
   "id": "3adb4440-da57-4cfc-8bab-8ab333b0d229",
   "metadata": {},
   "outputs": [],
   "source": [
    "df.drop(columns=['daily_goal', 'other_resources', 'n_lessons_completed',\n",
    "                 'highest_crown_count', 'n_active_days', 'n_lessons_started', 'longest_streak',\n",
    "                'lessons_per_day', 'duolingo_start_date'], inplace=True)"
   ]
  },
  {
   "cell_type": "code",
   "execution_count": 33,
   "id": "2b379a8c-58b8-40d9-8a87-d83d10938c1b",
   "metadata": {},
   "outputs": [],
   "source": [
    "df.dropna(inplace=True)"
   ]
  },
  {
   "cell_type": "code",
   "execution_count": 34,
   "id": "ee854670-8ef6-45f5-9c95-1e3cf8e93cf4",
   "metadata": {},
   "outputs": [
    {
     "data": {
      "text/plain": [
       "user_id                         0\n",
       "age                             0\n",
       "annual_income                   0\n",
       "country                         0\n",
       "duolingo_platform               0\n",
       "duolingo_subscriber             0\n",
       "duolingo_usage                  0\n",
       "employment_status               0\n",
       "gender                          0\n",
       "primary_language_commitment     0\n",
       "primary_language_review         0\n",
       "primary_language_motivation     0\n",
       "primary_language_proficiency    0\n",
       "student                         0\n",
       "used_other_resources            0\n",
       "highest_course_progress         0\n",
       "took_placement_test             0\n",
       "purchased_subscription          0\n",
       "n_days_on_platform              0\n",
       "has_daily_goal                  0\n",
       "pct_days_active                 0\n",
       "log_lessons_per_day             0\n",
       "dtype: int64"
      ]
     },
     "execution_count": 34,
     "metadata": {},
     "output_type": "execute_result"
    }
   ],
   "source": [
    "df.isnull().sum()"
   ]
  },
  {
   "cell_type": "code",
   "execution_count": 35,
   "id": "4b77a4a9-12cd-4466-a19c-d1aa4228ed1f",
   "metadata": {},
   "outputs": [
    {
     "name": "stdout",
     "output_type": "stream",
     "text": [
      "<class 'pandas.core.frame.DataFrame'>\n",
      "Int64Index: 4614 entries, 0 to 6185\n",
      "Data columns (total 22 columns):\n",
      " #   Column                        Non-Null Count  Dtype   \n",
      "---  ------                        --------------  -----   \n",
      " 0   user_id                       4614 non-null   object  \n",
      " 1   age                           4614 non-null   category\n",
      " 2   annual_income                 4614 non-null   category\n",
      " 3   country                       4614 non-null   category\n",
      " 4   duolingo_platform             4614 non-null   category\n",
      " 5   duolingo_subscriber           4614 non-null   category\n",
      " 6   duolingo_usage                4614 non-null   category\n",
      " 7   employment_status             4614 non-null   category\n",
      " 8   gender                        4614 non-null   category\n",
      " 9   primary_language_commitment   4614 non-null   category\n",
      " 10  primary_language_review       4614 non-null   category\n",
      " 11  primary_language_motivation   4614 non-null   category\n",
      " 12  primary_language_proficiency  4614 non-null   category\n",
      " 13  student                       4614 non-null   category\n",
      " 14  used_other_resources          4614 non-null   bool    \n",
      " 15  highest_course_progress       4614 non-null   float64 \n",
      " 16  took_placement_test           4614 non-null   bool    \n",
      " 17  purchased_subscription        4614 non-null   bool    \n",
      " 18  n_days_on_platform            4614 non-null   float64 \n",
      " 19  has_daily_goal                4614 non-null   bool    \n",
      " 20  pct_days_active               4614 non-null   float64 \n",
      " 21  log_lessons_per_day           4614 non-null   float64 \n",
      "dtypes: bool(4), category(13), float64(4), object(1)\n",
      "memory usage: 295.9+ KB\n"
     ]
    }
   ],
   "source": [
    "df.info()"
   ]
  },
  {
   "cell_type": "code",
   "execution_count": 36,
   "id": "e432a5d4-30d0-4109-9d85-8f60dc6a5023",
   "metadata": {},
   "outputs": [
    {
     "name": "stdout",
     "output_type": "stream",
     "text": [
      "Stored 'df' (DataFrame)\n"
     ]
    }
   ],
   "source": [
    "#storing it to be used in the next notebook\n",
    "%store df"
   ]
  },
  {
   "cell_type": "code",
   "execution_count": null,
   "id": "98188fec-28e4-4a00-8f73-db2750cc1528",
   "metadata": {},
   "outputs": [],
   "source": []
  }
 ],
 "metadata": {
  "kernelspec": {
   "display_name": "Python 3",
   "language": "python",
   "name": "python3"
  },
  "language_info": {
   "codemirror_mode": {
    "name": "ipython",
    "version": 3
   },
   "file_extension": ".py",
   "mimetype": "text/x-python",
   "name": "python",
   "nbconvert_exporter": "python",
   "pygments_lexer": "ipython3",
   "version": "3.9.4"
  }
 },
 "nbformat": 4,
 "nbformat_minor": 5
}

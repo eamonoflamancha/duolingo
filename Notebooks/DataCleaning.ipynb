{
 "cells": [
  {
   "cell_type": "code",
   "execution_count": 3,
   "id": "e61b9961-b40e-4213-868c-1bfc1a1a0b9c",
   "metadata": {},
   "outputs": [],
   "source": [
    "import os\n",
    "import pandas as pd\n",
    "import numpy as np\n",
    "import seaborn as sns\n",
    "from matplotlib import pyplot as plt\n",
    "from pandas_profiling import ProfileReport\n",
    "from pandas.api.types import CategoricalDtype\n",
    "\n",
    "%matplotlib inline"
   ]
  },
  {
   "cell_type": "code",
   "execution_count": 2,
   "id": "8ab16d48-356f-45da-92b8-9f50e5cdf1eb",
   "metadata": {},
   "outputs": [],
   "source": [
    "survey_data_file = \"../data/survey_data.csv\"\n",
    "app_usage_file = \"../data/survey_users_app_usage.csv\""
   ]
  },
  {
   "cell_type": "code",
   "execution_count": 4,
   "id": "8bd280ac-831d-4dda-8565-9f69b9ea80c5",
   "metadata": {},
   "outputs": [],
   "source": [
    "df_survey_raw = pd.read_csv(survey_data_file)\n",
    "# df_app = pd.read_csv(app_usage_file, parse_dates=['duolingo_start_date'])"
   ]
  },
  {
   "cell_type": "code",
   "execution_count": 10,
   "id": "5053fce1-c313-4f74-bbd2-e254741a748f",
   "metadata": {},
   "outputs": [
    {
     "name": "stdout",
     "output_type": "stream",
     "text": [
      "<class 'pandas.core.frame.DataFrame'>\n",
      "RangeIndex: 6187 entries, 0 to 6186\n",
      "Data columns (total 19 columns):\n",
      " #   Column                                Non-Null Count  Dtype \n",
      "---  ------                                --------------  ----- \n",
      " 0   user_id                               6187 non-null   object\n",
      " 1   age                                   5838 non-null   object\n",
      " 2   annual_income                         5182 non-null   object\n",
      " 3   country                               6187 non-null   object\n",
      " 4   duolingo_platform                     5911 non-null   object\n",
      " 5   duolingo_subscriber                   5901 non-null   object\n",
      " 6   duolingo_usage                        5911 non-null   object\n",
      " 7   employment_status                     5730 non-null   object\n",
      " 8   future_contact                        5446 non-null   object\n",
      " 9   gender                                5838 non-null   object\n",
      " 10  other_resources                       4474 non-null   object\n",
      " 11  primary_language_commitment           6022 non-null   object\n",
      " 12  primary_language_review               6014 non-null   object\n",
      " 13  primary_language_motivation           5948 non-null   object\n",
      " 14  primary_language_motivation_followup  3715 non-null   object\n",
      " 15  primary_language_proficiency          6027 non-null   object\n",
      " 16  student                               5523 non-null   object\n",
      " 17  survey_complete                       6187 non-null   int64 \n",
      " 18  time_spent_seconds                    6187 non-null   int64 \n",
      "dtypes: int64(2), object(17)\n",
      "memory usage: 918.5+ KB\n"
     ]
    }
   ],
   "source": [
    "df_survey_raw.info()"
   ]
  },
  {
   "cell_type": "code",
   "execution_count": 6,
   "id": "5e4539b5-2c30-44a4-81dd-a8eb688081dd",
   "metadata": {},
   "outputs": [],
   "source": [
    "unique_counts = pd.DataFrame.from_records([(col, df_survey_raw[col].nunique()) for col in df_survey_raw.columns],\n",
    "                          columns=['Column_Name', 'Num_Unique']).sort_values(by=['Num_Unique'])"
   ]
  },
  {
   "cell_type": "code",
   "execution_count": 7,
   "id": "b90e4798-58f0-4071-9f9f-76bba1bd2d7d",
   "metadata": {},
   "outputs": [
    {
     "data": {
      "text/html": [
       "<div>\n",
       "<style scoped>\n",
       "    .dataframe tbody tr th:only-of-type {\n",
       "        vertical-align: middle;\n",
       "    }\n",
       "\n",
       "    .dataframe tbody tr th {\n",
       "        vertical-align: top;\n",
       "    }\n",
       "\n",
       "    .dataframe thead th {\n",
       "        text-align: right;\n",
       "    }\n",
       "</style>\n",
       "<table border=\"1\" class=\"dataframe\">\n",
       "  <thead>\n",
       "    <tr style=\"text-align: right;\">\n",
       "      <th></th>\n",
       "      <th>Column_Name</th>\n",
       "      <th>Num_Unique</th>\n",
       "    </tr>\n",
       "  </thead>\n",
       "  <tbody>\n",
       "    <tr>\n",
       "      <th>8</th>\n",
       "      <td>future_contact</td>\n",
       "      <td>2</td>\n",
       "    </tr>\n",
       "    <tr>\n",
       "      <th>12</th>\n",
       "      <td>primary_language_review</td>\n",
       "      <td>2</td>\n",
       "    </tr>\n",
       "    <tr>\n",
       "      <th>17</th>\n",
       "      <td>survey_complete</td>\n",
       "      <td>2</td>\n",
       "    </tr>\n",
       "    <tr>\n",
       "      <th>15</th>\n",
       "      <td>primary_language_proficiency</td>\n",
       "      <td>3</td>\n",
       "    </tr>\n",
       "    <tr>\n",
       "      <th>16</th>\n",
       "      <td>student</td>\n",
       "      <td>3</td>\n",
       "    </tr>\n",
       "    <tr>\n",
       "      <th>4</th>\n",
       "      <td>duolingo_platform</td>\n",
       "      <td>3</td>\n",
       "    </tr>\n",
       "    <tr>\n",
       "      <th>5</th>\n",
       "      <td>duolingo_subscriber</td>\n",
       "      <td>4</td>\n",
       "    </tr>\n",
       "    <tr>\n",
       "      <th>7</th>\n",
       "      <td>employment_status</td>\n",
       "      <td>4</td>\n",
       "    </tr>\n",
       "    <tr>\n",
       "      <th>9</th>\n",
       "      <td>gender</td>\n",
       "      <td>4</td>\n",
       "    </tr>\n",
       "    <tr>\n",
       "      <th>6</th>\n",
       "      <td>duolingo_usage</td>\n",
       "      <td>5</td>\n",
       "    </tr>\n",
       "    <tr>\n",
       "      <th>2</th>\n",
       "      <td>annual_income</td>\n",
       "      <td>5</td>\n",
       "    </tr>\n",
       "    <tr>\n",
       "      <th>11</th>\n",
       "      <td>primary_language_commitment</td>\n",
       "      <td>5</td>\n",
       "    </tr>\n",
       "    <tr>\n",
       "      <th>1</th>\n",
       "      <td>age</td>\n",
       "      <td>5</td>\n",
       "    </tr>\n",
       "    <tr>\n",
       "      <th>3</th>\n",
       "      <td>country</td>\n",
       "      <td>10</td>\n",
       "    </tr>\n",
       "    <tr>\n",
       "      <th>13</th>\n",
       "      <td>primary_language_motivation</td>\n",
       "      <td>13</td>\n",
       "    </tr>\n",
       "    <tr>\n",
       "      <th>14</th>\n",
       "      <td>primary_language_motivation_followup</td>\n",
       "      <td>146</td>\n",
       "    </tr>\n",
       "    <tr>\n",
       "      <th>10</th>\n",
       "      <td>other_resources</td>\n",
       "      <td>252</td>\n",
       "    </tr>\n",
       "    <tr>\n",
       "      <th>18</th>\n",
       "      <td>time_spent_seconds</td>\n",
       "      <td>1305</td>\n",
       "    </tr>\n",
       "    <tr>\n",
       "      <th>0</th>\n",
       "      <td>user_id</td>\n",
       "      <td>6150</td>\n",
       "    </tr>\n",
       "  </tbody>\n",
       "</table>\n",
       "</div>"
      ],
      "text/plain": [
       "                             Column_Name  Num_Unique\n",
       "8                         future_contact           2\n",
       "12               primary_language_review           2\n",
       "17                       survey_complete           2\n",
       "15          primary_language_proficiency           3\n",
       "16                               student           3\n",
       "4                      duolingo_platform           3\n",
       "5                    duolingo_subscriber           4\n",
       "7                      employment_status           4\n",
       "9                                 gender           4\n",
       "6                         duolingo_usage           5\n",
       "2                          annual_income           5\n",
       "11           primary_language_commitment           5\n",
       "1                                    age           5\n",
       "3                                country          10\n",
       "13           primary_language_motivation          13\n",
       "14  primary_language_motivation_followup         146\n",
       "10                       other_resources         252\n",
       "18                    time_spent_seconds        1305\n",
       "0                                user_id        6150"
      ]
     },
     "execution_count": 7,
     "metadata": {},
     "output_type": "execute_result"
    }
   ],
   "source": [
    "unique_counts"
   ]
  },
  {
   "cell_type": "code",
   "execution_count": 108,
   "id": "3c03971c-7b8b-4681-9b7c-821cb3fe56a7",
   "metadata": {
    "tags": []
   },
   "outputs": [],
   "source": [
    "df_survey = df_survey_raw.copy()"
   ]
  },
  {
   "cell_type": "code",
   "execution_count": 109,
   "id": "ccf741ea-9a4e-4d1f-836a-e329cf62b708",
   "metadata": {},
   "outputs": [
    {
     "name": "stdout",
     "output_type": "stream",
     "text": [
      "The data contains 6187 entries, but only 5729 where survey_complete is True. Dropping 458 rows\n"
     ]
    }
   ],
   "source": [
    "#only keep results where survey was completed\n",
    "total_rows = df_survey.shape[0]\n",
    "completed_surveys = df_survey['survey_complete'].sum()\n",
    "print('The data contains {} entries, but only {} where survey_complete is True. Dropping {} rows' \\\n",
    "      .format(total_rows, completed_surveys, total_rows-completed_surveys))"
   ]
  },
  {
   "cell_type": "code",
   "execution_count": 110,
   "id": "25a0cf11-6b91-419c-a506-6902166954be",
   "metadata": {},
   "outputs": [],
   "source": [
    "index_names = df_survey[df_survey['survey_complete']==0].index\n",
    "df_survey.drop(index_names, inplace=True)"
   ]
  },
  {
   "cell_type": "code",
   "execution_count": 111,
   "id": "aa33b94c-003b-4e3f-a9c0-f1c45a6f41da",
   "metadata": {},
   "outputs": [],
   "source": [
    "# I don't care how long it took people to complete the survey, so dropping that column\n",
    "# Also, we've already filterd on survey_complete == 1, so dropping that column\n",
    "# Also don't care if we can contact the user again\n",
    "df_survey.drop(columns=['time_spent_seconds', 'survey_complete', 'future_contact'], inplace=True)\n",
    "# 'primary_language_motivation_followup' has high cardinality and lots of NaN's - not useful here\n",
    "df_survey.drop(columns=['primary_language_motivation_followup'], inplace=True)"
   ]
  },
  {
   "cell_type": "code",
   "execution_count": 112,
   "id": "73da4208-5d25-49b2-8a1e-f176b3951ae8",
   "metadata": {},
   "outputs": [],
   "source": [
    "# Now let's find duplicate entries by user_id\n",
    "duplicate_users = df_survey[df_survey.duplicated(['user_id'])]\n",
    "# duplicate_users.shape[0] -> there are 35 duplicates\n",
    "# Let's drop the duplicates, and choose to keep the first entry per user\n",
    "df_survey.drop_duplicates(subset=['user_id'], keep='first', inplace=True)"
   ]
  },
  {
   "cell_type": "code",
   "execution_count": 123,
   "id": "9e4d122d-59b0-4b72-940a-4833abc60d11",
   "metadata": {},
   "outputs": [
    {
     "name": "stdout",
     "output_type": "stream",
     "text": [
      "Unique values in column are:  [\"I'm very committed to learning this language.\", \"I'm slightly committed to learning this language.\", \"I'm moderately committed to learning this language.\", \"I'm extremely committed to learning this language.\", \"I'm not at all committed to learning this language.\", nan]\n",
      "Total NaNs = 6\n"
     ]
    }
   ],
   "source": [
    "column_to_check = 'primary_language_commitment'\n",
    "print('Unique values in column are: ', [x for x in df_survey[column_to_check].unique()])\n",
    "print('Total NaNs = {}'.format(df_survey[column_to_check].isnull().sum()))"
   ]
  },
  {
   "cell_type": "code",
   "execution_count": 114,
   "id": "dbaebc0d-afad-4548-991a-c559d19090aa",
   "metadata": {},
   "outputs": [],
   "source": [
    "# Now let's see if we can fill some missing values\n",
    "df_survey['duolingo_platform'].fillna('Unknown', inplace=True)\n",
    "df_survey['duolingo_subscriber'].fillna(\"I don't know if I pay for Duolingo Plus\", inplace=True)\n",
    "df_survey['duolingo_usage'].fillna(\"I don't use Duolingo\", inplace=True)\n",
    "# with 110 nan's, leaving 'employment_status' NaN for now - to be imputed later\n",
    "# 'age' has 9 Nan's, but is highly correlated with 'employment_status' and 'student' so will try to impute\n",
    "# 'annual_income' has 633 NaN's - will try to impute later\n",
    "df_survey['gender'].fillna(\"Prefer not to say\", inplace=True) # they didn't answer the question, and only 10 NaN's\n",
    "# 'primary_language_commitment' has only 6 NaN's - leaving those for now\n",
    "# 'primary_language_review' has only 13 NaN's - leaving those for now\n",
    "# 'primary_language_motivation' has only 15 NaN's - leaving those for now\n",
    "# 'primary_language_proficiency' has only 4 NaN's - leaving those for now\n",
    "# 'student' has 307 NaN's - will try to impute"
   ]
  },
  {
   "cell_type": "code",
   "execution_count": 115,
   "id": "124e5bcb-ee16-48cd-8164-b880ef5d6c3c",
   "metadata": {},
   "outputs": [],
   "source": [
    "# Next, let's encode some categorical variables where ordering doesn't matter\n",
    "df_survey['country'] = df_survey['country'].astype('category')\n",
    "df_survey['duolingo_platform'] = df_survey['duolingo_platform'].astype('category')\n",
    "df_survey['duolingo_subscriber'] = df_survey['duolingo_subscriber'].astype('category')\n",
    "df_survey['employment_status'] = df_survey['employment_status'].astype('category')\n",
    "df_survey['gender'] = df_survey['gender'].astype('category')\n",
    "df_survey['student'] = df_survey['student'].astype('category')"
   ]
  },
  {
   "cell_type": "code",
   "execution_count": 118,
   "id": "10adaa1f-27ff-4202-a335-d7c5b2981ef7",
   "metadata": {},
   "outputs": [],
   "source": [
    "# Next, mapping ordinal categories where ordering does matter\n",
    "# 'duolingo_usage'\n",
    "usage_ordering = [\"I don't use Duolingo\", \"Less than once a month\", \"Monthly\", \"Weekly\", \"Daily\"]\n",
    "usage_type = CategoricalDtype(categories=usage_ordering, ordered=True)\n",
    "df_survey['duolingo_usage'] = df_survey['duolingo_usage'].astype('category')\n",
    "df_survey['duolingo_usage'] = df_survey['duolingo_usage'].cat.reorder_categories(usage_ordering, ordered=True)\n",
    "\n",
    "# 'age'\n",
    "age_ordering = ['Under 18', '18-34', '35 - 54', '55 - 74', '75 or older']\n",
    "age_type = CategoricalDtype(categories=age_ordering, ordered=True)\n",
    "df_survey['age'] = df_survey['age'].astype('category')\n",
    "df_survey['age'] = df_survey['age'].cat.reorder_categories(age_ordering, ordered=True)\n",
    "\n",
    "# 'annual_income'\n",
    "income_ordering = ['$0 - $10,000', '$11,000 - $25,000', '$26,000 - $75,000', '$76,000 - $150,000', '$151,000 or more']\n",
    "income_type = CategoricalDtype(categories=income_ordering, ordered=True)\n",
    "df_survey['annual_income'] = df_survey['annual_income'].astype('category')\n",
    "df_survey['annual_income'] = df_survey['annual_income'].cat.reorder_categories(income_ordering, ordered=True)\n",
    "\n",
    "# 'primary_language_commitment'\n",
    "commitment_ordering = [\"I'm not at all committed to learning this language.\",\n",
    "                       \"I'm slightly committed to learning this language.\", \n",
    "                       \"I'm moderately committed to learning this language.\", \n",
    "                       \"I'm very committed to learning this language.\", \n",
    "                       \"I'm extremely committed to learning this language.\"]\n",
    "commitment_type = CategoricalDtype(categories=commitment_ordering, ordered=True)\n",
    "df_survey['primary_language_commitment'] = df_survey['primary_language_commitment'].astype('category')\n",
    "df_survey['primary_language_commitment'] = df_survey['primary_language_commitment'].cat.reorder_categories(commitment_ordering, ordered=True)\n",
    "\n",
    "# 'primary_language_commitment'\n",
    "commitment_ordering = [\"I'm not at all committed to learning this language.\",\n",
    "                       \"I'm slightly committed to learning this language.\", \n",
    "                       \"I'm moderately committed to learning this language.\", \n",
    "                       \"I'm very committed to learning this language.\", \n",
    "                       \"I'm extremely committed to learning this language.\"]\n",
    "commitment_type = CategoricalDtype(categories=commitment_ordering, ordered=True)\n",
    "df_survey['primary_language_commitment'] = df_survey['primary_language_commitment'].astype('category')\n",
    "df_survey['primary_language_commitment'] = df_survey['primary_language_commitment'].cat.reorder_categories(commitment_ordering, ordered=True)"
   ]
  },
  {
   "cell_type": "code",
   "execution_count": 120,
   "id": "15a64a76-0cef-4ed1-aa8c-cf93bef91350",
   "metadata": {},
   "outputs": [
    {
     "data": {
      "text/plain": [
       "['Daily', 'Weekly', 'Monthly', 'Less than once a month', 'I don't use Duolingo']\n",
       "Categories (5, object): ['I don't use Duolingo' < 'Less than once a month' < 'Monthly' < 'Weekly' < 'Daily']"
      ]
     },
     "execution_count": 120,
     "metadata": {},
     "output_type": "execute_result"
    }
   ],
   "source": []
  },
  {
   "cell_type": "code",
   "execution_count": null,
   "id": "92da30f3-0bf8-4e01-8031-381346e508bd",
   "metadata": {},
   "outputs": [],
   "source": []
  }
 ],
 "metadata": {
  "kernelspec": {
   "display_name": "Python 3",
   "language": "python",
   "name": "python3"
  },
  "language_info": {
   "codemirror_mode": {
    "name": "ipython",
    "version": 3
   },
   "file_extension": ".py",
   "mimetype": "text/x-python",
   "name": "python",
   "nbconvert_exporter": "python",
   "pygments_lexer": "ipython3",
   "version": "3.9.4"
  }
 },
 "nbformat": 4,
 "nbformat_minor": 5
}

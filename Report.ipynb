{
 "cells": [
  {
   "cell_type": "markdown",
   "id": "596a0997-c7bd-4299-843f-a8bc4bfdfda5",
   "metadata": {},
   "source": [
    "# Duolingo Personas\n",
    "## Eamon Glackin - Director of Marketing Analytics application\n",
    "\n",
    "In this report, I will briefly summarize my analysis and present three duolingo *\"personas\"* which typify three distinct user segments observed from the data. In order to identify these user segments, the survey data and usage data were first cleaned then joined together, and lastly transformed into features usable for unsupervised machine learning techniques such as clustering. "
   ]
  },
  {
   "cell_type": "markdown",
   "id": "46aab0a7-7c1e-486a-a7fe-cc137521702b",
   "metadata": {},
   "source": [
    "### Approach\n",
    "In order to identify user segments, one key thing to consider is including both survey data as well as usage data. Survey data is helpful for distinguishing between groups based upon demographics, psychographics, and self-reported motivations and asseessments of activity on Duolingo. However, survey responses may not always be a true reflection of the way a particular user or set of users engages with the product. To control for that, the survey data is combined with observational app usage data to better understand how users actually use the product.\n",
    "\n",
    "After cleaning and joining the data sets, an unsupervised machine learning technique was used to identify distinct clusters. Since there is no particular variable that we are trying to predict and we have no a priori beliefs about how many distinct groups of users there ought to be for us to classify users into, clustering techniques are appropriate for this purpose. Typically an algorithm such as ***k-means*** would be used to identify clusters of distinct data points. However, that algorithm is primarily useful for numeric data and has shortcomings when trying to leverage it on categorical data such as survey responses. ***k-modes*** is a similar technique useful for clustering on categorical data, but that would leave us using only the survey data and discarding the numeric app-usage data. Thus, a technique known as ***k-prototypes*** - which is essentially a hybrid of *k-means* and *k-modes*, allowing us to cluster on mixed (i.e. both categorical and numeric) data - was used.\n",
    "\n",
    "The ***k-prototypes*** algorithm was run several times, with a different number of clusters *k* for each iteration. After plotting *k* against a \"goodness-of-fit\" metric, $k=3$ was chosen as a reasonable number of user clusters to represent the data (using the \"elbow\" method to weigh the tradeoff between accuracy and complexity. See figure 1 in the appendix). "
   ]
  },
  {
   "cell_type": "markdown",
   "id": "2bfeb333-38be-4bf2-83a7-c0c5c9403285",
   "metadata": {},
   "source": [
    "### Clusters and Personas\n",
    "\n",
    "The output from the ***k-prototypes*** algorithm with 3 clusters results in the following:\n",
    "\n",
    "1. **Cluster A** - Typified by the persona *\"Boris\"*. Users in this segment are typically male, middle-aged, lower-income, and highly engaged with Duolingo but not paying subscribers. They are intermediate proficiency in the language, and are using the app to review. They need to know the language where they live.\n",
    "2. **Cluster B** - Typified by the persona *\"Yukie\"*. Users in this segment are typically older, female, and middle-to-upper income. They are using the app to learn a language for the first time, not because they need to, but because it is a passion or pursuit - to connect with their culture or heritage. Users in this group are typically iPhone users and pay for a subscription.\n",
    "3. **Cluster C** - Typified by the persona *\"Olivia\"*. Users in this segment are typically younger, female, and lower-income. They are likely to be from an english-speaking country, and are using the app to learn a language for the first time. However, unlike users in cluster A, these users are less committed to learning the language, and engage with Duolingo less frequently.\n",
    "\n",
    "See [ClusterSummary.csv](ClusterSummary.csv) for a summary of each cluster, or the notebook [PostClustering_DescriptiveStats](Notebooks/PostClustering_DescriptiveStats.ipynb) for charts demonstrating the cluster breakdowns across various metrics such as by age, income, and active rates. For two examples, see figures 2 and 3 in the appendix."
   ]
  },
  {
   "cell_type": "markdown",
   "id": "671de43d-dc09-47d3-91b5-2ae333c523d0",
   "metadata": {},
   "source": [
    "#### Cluster A - *Boris*\n",
    "\n",
    "Cluster A is typified by the user persona *\"Boris\"*. He is a user from Russia who is likely in one of the bottom 2 income brackets. He is likely male, middle-aged, and uses an android phone. His survey responses indicate that he is very committed to learning the language and that he uses the app Daily. His actual usage statistics during the observation window largely supports this, as he was active on the platform 2 out of every 3 days from August to November 2018, on average. He typically takes 2.9 lessons per day, has been on the platform for about 2 years, and has made good progress - having completed about 35 rows on average. He has studied the language before and is using Duolingo to review so he can speak the local language where he lives. He does not pay for a subscription, though.\n",
    "\n",
    "**Marketing campaign or product hook** - *\"Use it or lose it! Need a language refresher? Duolingo is here to help. The best way to stay fluent in a language is to practice using it consistently. With just a few minutes a day, Duolingo will help you learn new words and expressions, and retain what you already know.\"* Key things to highlight are the convenience and ease of use of having a language app right on whatever device you have, the deep catalog of lessons for all proficiency levels, and the features that promote consistency such as streaks. "
   ]
  },
  {
   "cell_type": "markdown",
   "id": "a6b49269-2f25-4439-b718-ab3e6b1297bc",
   "metadata": {},
   "source": [
    "#### Cluster B - *Yukie*\n",
    "\n",
    "Cluster B is typified by the user persona *\"Yukie\"*. She is likely an older, wealthier woman from a country like Japan who is learning a language for the first time in order to connect to her heritage or identity. She is a beginner, learning the language for the first time. She does not need to learn this language for work or to learn the language where she lives, but she is nonetheless very committed to learning the language. This is a passion, or a leisure activity she is dedicated to. She is active more than 75% of days, on average, taking more than 3 lessons per day. She has the financial means to both use Duolingo primarily on an iOS device and to pay for a subscription. \n",
    "\n",
    "**Marketing campaign or product hook** - *\"Learning a language is more than just learning to read, write, and speak. It is a way to immerse onself in a culture, and how it expresses itself through language. Language is more than communication, it is the means through with culture and heritage are passed down from one generation to the next.\"* For Yukie, Duolingo is not a means to an end nor an economic imperative. She doesn't need to learn a language for work or for daily life. Rather, she is learning a language as a leisure activity or passion project, to connect to her heritage. Marketing to Yukie should highlight cultural lessons such as idioms, art, and history. Since she is higher-income and likely willing to pay for a subscription, the paid product should be put front-and-center in any marketing to her. Thighs to highlight include achievements, streaks, custom app icons, and information about how you are likelier to successfully learn a language by making a financial commitment to doing so."
   ]
  },
  {
   "cell_type": "markdown",
   "id": "97fe1a4d-309a-4c7a-b3cc-340b155cd67c",
   "metadata": {},
   "source": [
    "#### Cluster C - *Olivia*\n",
    "\n",
    "Cluster C is typified by the user persona *\"Olivia\"*. She  is from a similar economic background as Boris from cluster A - very likely in the bottom 2 income brackets and likely to use an android device - but is much more likely to be in an english-speaking country like the UK or US. She is younger, and has only been on the platform for 1-1.5 years. Unlike Boris, she is using the app to learn a language for the first time, but she is only moderately committed to learning the language. In her survey responses she is likely to say she uses the app daily, but the usage data suggests otherwise. On average, she only uses the app every 1 in 5 days, or slightly more than once per week. When she does use the app, she takes a similar number of lessons at 2.9 per day. Like Boris, she does not pay for a subscription.\n",
    "\n",
    "**Marketing campaign or product hook** - *\"Its easier than you think to learn a new language! With just 5 minutes a day, Duolingo can teach you to speak like a local before you know it.\"* For Olivia, commitment and consistency seem difficult. She is younger and likely distracted by other things in life such as building a career or starting a family. She has aspirations to use Duolingo daily to learn a language, but has trouble finding time to do so consistently. Marketing campaigns, push notifications (if she is already a user), and other communications need to emphasize that lessons on Duolingo are bite-sized and that you can make progress with a low time commitment."
   ]
  },
  {
   "cell_type": "markdown",
   "id": "d301c25a-254e-4ea1-91d2-30903b00d6f6",
   "metadata": {},
   "source": [
    "### Appendix\n",
    "\n",
    "#### Figure 1 - Elbow analysis for cluster selection\n",
    "![Selection of k for number of clusters](images/elbow.png)\n",
    "\n",
    "#### Figure 2 - Age breakdown by Cluster\n",
    "![Age](images/users_by_cluster_and_age.png) \n",
    "\n",
    "#### Figure 3 - Active Rates by Cluster\n",
    "![ActiveRate](images/hist_pct_days_active.png)"
   ]
  },
  {
   "cell_type": "code",
   "execution_count": null,
   "id": "86663922-8146-408c-9622-87ca36250cef",
   "metadata": {},
   "outputs": [],
   "source": []
  }
 ],
 "metadata": {
  "kernelspec": {
   "display_name": "Python 3",
   "language": "python",
   "name": "python3"
  },
  "language_info": {
   "codemirror_mode": {
    "name": "ipython",
    "version": 3
   },
   "file_extension": ".py",
   "mimetype": "text/x-python",
   "name": "python",
   "nbconvert_exporter": "python",
   "pygments_lexer": "ipython3",
   "version": "3.9.4"
  }
 },
 "nbformat": 4,
 "nbformat_minor": 5
}

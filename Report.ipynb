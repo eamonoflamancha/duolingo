{
 "cells": [
  {
   "cell_type": "markdown",
   "id": "596a0997-c7bd-4299-843f-a8bc4bfdfda5",
   "metadata": {},
   "source": [
    "# Duolingo Personas\n",
    "\n",
    "In this report, I will briefly summarize my analysis and present three duolingo *\"personas\"*"
   ]
  },
  {
   "cell_type": "markdown",
   "id": "2bfeb333-38be-4bf2-83a7-c0c5c9403285",
   "metadata": {},
   "source": [
    "- Boris\n",
    "- Yukie\n",
    "- Olivia"
   ]
  },
  {
   "cell_type": "code",
   "execution_count": null,
   "id": "4bd80051-2ac4-482d-bccd-5ffaec53924a",
   "metadata": {},
   "outputs": [],
   "source": []
  }
 ],
 "metadata": {
  "kernelspec": {
   "display_name": "Python 3",
   "language": "python",
   "name": "python3"
  },
  "language_info": {
   "codemirror_mode": {
    "name": "ipython",
    "version": 3
   },
   "file_extension": ".py",
   "mimetype": "text/x-python",
   "name": "python",
   "nbconvert_exporter": "python",
   "pygments_lexer": "ipython3",
   "version": "3.9.4"
  }
 },
 "nbformat": 4,
 "nbformat_minor": 5
}

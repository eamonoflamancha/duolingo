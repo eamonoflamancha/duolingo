{
 "cells": [
  {
   "cell_type": "markdown",
   "id": "d63cf115-c9de-4618-9f14-6ec95d671f21",
   "metadata": {},
   "source": [
    "# Eamon Glackin - Duolingo Director of Marketing Analytics\n",
    "## Take Home Data Analysis Task"
   ]
  },
  {
   "cell_type": "markdown",
   "id": "84fe2c14-46cd-4d57-87bf-bc3bcbe66d35",
   "metadata": {},
   "source": [
    "The first cell will contain all the necessary package imports"
   ]
  },
  {
   "cell_type": "code",
   "execution_count": 1,
   "id": "49de7804-38d8-4fd6-88c4-97e7492aeb7d",
   "metadata": {},
   "outputs": [],
   "source": [
    "import pandas as pd\n",
    "import numpy as np\n",
    "import seaborn as sns\n",
    "from matplotlib import pyplot as plt\n",
    "\n",
    "%matplotlib inline"
   ]
  },
  {
   "cell_type": "code",
   "execution_count": null,
   "id": "7c9b6fe7-debe-4a64-b740-90d018708199",
   "metadata": {},
   "outputs": [],
   "source": []
  }
 ],
 "metadata": {
  "kernelspec": {
   "display_name": "Python 3",
   "language": "python",
   "name": "python3"
  },
  "language_info": {
   "codemirror_mode": {
    "name": "ipython",
    "version": 3
   },
   "file_extension": ".py",
   "mimetype": "text/x-python",
   "name": "python",
   "nbconvert_exporter": "python",
   "pygments_lexer": "ipython3",
   "version": "3.9.4"
  }
 },
 "nbformat": 4,
 "nbformat_minor": 5
}
